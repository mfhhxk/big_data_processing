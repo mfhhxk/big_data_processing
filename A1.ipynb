{
 "cells": [
  {
   "cell_type": "markdown",
   "metadata": {},
   "source": [
    "# FIT5202 Assignment 1 : Analysing eCommerce Data\n",
    "\n",
    "## Table of Contents\n",
    "* \n",
    "    * [Part 1 : Working with RDD](#part-1)\n",
    "        * [1.1 Data Preparation and Loading](#1.1)\n",
    "        * [1.2 Data Partitioning in RDD](#1.2)\n",
    "        * [1.3 Query/Analysis](#1.3)\n",
    "    * [Part 2 : Working with DataFrames](#2-dataframes)\n",
    "        * [2.1 Data Preparation and Loading](#2-dataframes)\n",
    "        * [2.2 Query/Analysis](#2.2)\n",
    "    * [Part 3 :  RDDs vs DataFrame vs Spark SQL](#part-3)"
   ]
  },
  {
   "cell_type": "markdown",
   "metadata": {},
   "source": [
    "# Part 1 : Working with RDDs <a class=\"anchor\" name=\"part-1\"></a>\n",
    "## 1.1 Working with RDD\n",
    "In this section, you will need to create RDDs from the given datasets, perform partitioning in these RDDs and use various RDD operations to answer the queries for retail analysis. \n",
    "\n",
    "### 1.1.1 Data Preparation and Loading <a class=\"anchor\" name=\"1.1\"></a>\n",
    "Write the code to create a SparkContext object using SparkSession. To create a SparkSession you first need to build a SparkConf object that contains information about your application, use Melbourne time as the session timezone. Give an appropriate name for your application and run Spark locally with as many working processors as logical cores on your machine. "
   ]
  },
  {
   "cell_type": "code",
   "execution_count": 1,
   "metadata": {},
   "outputs": [],
   "source": [
    "# Import SparkConf class into program\n",
    "from pyspark import SparkConf\n",
    "\n",
    "# local[*]: run Spark in local mode with as many working processors as logical cores on your machine\n",
    "# If we want Spark to run locally with 'k' worker threads, we can specify as \"local[k]\".\n",
    "master = \"local[*]\"\n",
    "# The `appName` field is a name to be shown on the Spark cluster UI page\n",
    "app_name = \"Asg 1 Part 1\"\n",
    "# Setup configuration parameters for Spark\n",
    "spark_conf = SparkConf().setMaster(master).setAppName(app_name)\n",
    "\n",
    "# Import SparkContext and SparkSession classes\n",
    "from pyspark import SparkContext # Spark\n",
    "from pyspark.sql import SparkSession # Spark SQL\n",
    "\n",
    "# # Method 1: Using SparkSession\n",
    "spark = SparkSession.builder.config(conf=spark_conf).getOrCreate()\n",
    "spark.conf.set(\"spark.sql.session.timeZone\", \"Australia/Melbourne\")\n",
    "sc = spark.sparkContext\n",
    "sc.setLogLevel('ERROR')"
   ]
  },
  {
   "cell_type": "markdown",
   "metadata": {},
   "source": [
    "1.1.2 Load CUPS csv files into four RDDs."
   ]
  },
  {
   "cell_type": "code",
   "execution_count": 2,
   "metadata": {},
   "outputs": [],
   "source": [
    "category_rdd = sc.textFile('sales/category.csv')\n",
    "users_rdd = sc.textFile(\"users.csv\")\n",
    "product_rdd = sc.textFile(\"sales/product.csv\")\n",
    "sales_rdd = sc.textFile(\"sales/sales.csv\")"
   ]
  },
  {
   "cell_type": "code",
   "execution_count": 3,
   "metadata": {},
   "outputs": [
    {
     "name": "stdout",
     "output_type": "stream",
     "text": [
      "####### category_rdd INFO:\n",
      "Number of partitions: 2\n",
      "####### users_rdd INFO:\n",
      "Number of partitions: 39\n",
      "####### product_rdd INFO:\n",
      "Number of partitions: 2\n",
      "####### sales_rdd INFO:\n",
      "Number of partitions: 22\n"
     ]
    }
   ],
   "source": [
    "print(f\"####### category_rdd INFO:\")\n",
    "print('Number of partitions:', category_rdd.getNumPartitions())\n",
    "\n",
    "print(f\"####### users_rdd INFO:\")\n",
    "print('Number of partitions:', users_rdd.getNumPartitions())\n",
    "\n",
    "print(f\"####### product_rdd INFO:\")\n",
    "print('Number of partitions:', product_rdd.getNumPartitions())\n",
    "\n",
    "print(f\"####### sales_rdd INFO:\")\n",
    "print('Number of partitions:', sales_rdd.getNumPartitions())\n"
   ]
  },
  {
   "cell_type": "markdown",
   "metadata": {},
   "source": [
    "1.1.3 For each RDD, remove the header rows and display the total count and first 10 records. (Hint: You can use csv.reader to parse rows into RDDs.)"
   ]
  },
  {
   "cell_type": "code",
   "execution_count": 4,
   "metadata": {},
   "outputs": [
    {
     "data": {
      "text/plain": [
       "['2090971686529663114,appliances.environment.vacuum',\n",
       " '2232732116498514828,apparel.jeans',\n",
       " '2232732109628244704,apparel.shirt',\n",
       " '2232732103294845523,apparel.shoes.step_ins',\n",
       " '2232732086500851925,apparel.scarf',\n",
       " '2232732100660822557,country_yard.cultivator',\n",
       " '2053013558282682943,construction.tools.drill',\n",
       " '2053013562527318829,furniture.living_room.cabinet',\n",
       " '2110937143172923797,construction.tools.light',\n",
       " '2074462942123786261,kids.toys']"
      ]
     },
     "execution_count": 4,
     "metadata": {},
     "output_type": "execute_result"
    }
   ],
   "source": [
    "# category.csv\n",
    "cat_header = category_rdd.first()\n",
    "cat_rdd = category_rdd.filter(lambda x: x != cat_header)\n",
    "cat_rdd.take(10)"
   ]
  },
  {
   "cell_type": "code",
   "execution_count": 5,
   "metadata": {},
   "outputs": [
    {
     "data": {
      "text/plain": [
       "['514771925,MERVYN,Unknown,1-5-1963,30A LUCINDA AVENUE,2260,NSW,male,WAMBERAL',\n",
       " '531947692,FALLON,Unknown,16-10-2002,82 CAMBERWARRA DRIVE,6025,WA,female,CRAIGIE',\n",
       " '560231306,KALIN,Unknown,19-8-2015,74 SOLDIERS ROAD,2281,NSW,male,PELICAN',\n",
       " '575248835,PIETTA,Unknown,19-1-1962,\"UNIT 1, 1 LARK AVENUE\",5023,SA,female,SEATON',\n",
       " '575243330,SUMMAH,Unknown,19-4-1973,44 CLARENDON ROAD,2048,NSW,female,STANMORE',\n",
       " '516606243,KEIRA,Unknown,9-6-2011,1 VIOLA CLOSE,4868,QLD,female,BAYVIEW HEIGHTS',\n",
       " '545807768,VERITY,Unknown,1-2-1980,31-33 KING STREET,3550,VIC,female,BENDIGO',\n",
       " '529118965,MAXWELL,Unknown,16-5-2012,15 HARWELL WAY,6721,WA,male,WEDGEFIELD',\n",
       " '518625399,NATASHIA,Unknown,5-6-1973,\"UNIT 3, 17 BOX STREET\",6530,WA,female,WEBBERTON',\n",
       " '518273873,JUSTINE,Unknown,27-8-2007,\"UNIT 909, 112 GODERICH STREET\",6004,WA,male,EAST PERTH']"
      ]
     },
     "execution_count": 5,
     "metadata": {},
     "output_type": "execute_result"
    }
   ],
   "source": [
    "# users.csv\n",
    "users_header = users_rdd.first()\n",
    "users_rdd = users_rdd.filter(lambda x: x != users_header)\n",
    "users_rdd.take(10)"
   ]
  },
  {
   "cell_type": "code",
   "execution_count": 6,
   "metadata": {},
   "outputs": [
    {
     "data": {
      "text/plain": [
       "['100168127,2053013554096767303,,30.8171196068388',\n",
       " '7101887,2232732103764607583,,33.6457534471799',\n",
       " '100058603,2053013555438944659,,32.1982006550096',\n",
       " '100007811,2232732112782361392,etro,300.111251624047',\n",
       " '26400508,2053013553056579841,,139.458912588293',\n",
       " '100215722,2134905019189691101,,4.15035271832127',\n",
       " '32402016,2232732115777094520,,5.90104832419485',\n",
       " '13201248,2232732061804790604,brw,400.468187201711',\n",
       " '2701879,2053013563911439225,beko,249.969115457257',\n",
       " '15300266,2232732107698864813,,2.85509519214549']"
      ]
     },
     "execution_count": 6,
     "metadata": {},
     "output_type": "execute_result"
    }
   ],
   "source": [
    "# product.csv\n",
    "prod_header = product_rdd.first()\n",
    "prod_rdd = product_rdd.filter(lambda x: x != prod_header)\n",
    "prod_rdd.take(10)"
   ]
  },
  {
   "cell_type": "code",
   "execution_count": 7,
   "metadata": {},
   "outputs": [
    {
     "data": {
      "text/plain": [
       "['338156802,2020-03-27 02:03:48.000000 +00:00,4804056,171.56,513119357,0ad58441-9db9-48bd-9ee7-accf603f06e0',\n",
       " '338156808,2020-03-27 02:03:49.000000 +00:00,1005223,209.53,522277649,2ecb2725-2c40-4acb-8ef1-05e39ea4c2cc',\n",
       " '338156913,2020-03-27 02:04:11.000000 +00:00,1005212,174.25,632847510,43609582-1818-4885-bd72-3791f3a4ec93',\n",
       " '338156921,2020-03-27 02:04:13.000000 +00:00,1005236,231.15,626579483,bbf972ef-8f8d-4a33-bcbd-ac09af67ea40',\n",
       " '338156953,2020-03-27 02:04:18.000000 +00:00,1005212,174.25,633245502,90166e0d-d7da-4997-b479-bc3a0fd724d6',\n",
       " '338156985,2020-03-27 02:04:24.000000 +00:00,100132156,47.5,541680528,4cd111cc-8716-4720-b7e3-bc3c8ddce98f',\n",
       " '338157055,2020-03-27 02:04:37.000000 +00:00,3500009,290.84,618162129,d0bda424-a759-4941-b9be-5091c28009db',\n",
       " '338157122,2020-03-27 02:04:48.000000 +00:00,2300214,386.08,626601722,ce913646-936a-4b2e-b6bb-9f6e0d781bc5',\n",
       " '338157141,2020-03-27 02:04:52.000000 +00:00,100070443,35.01,604369152,fd55e2cd-dc42-4bf9-a0a1-f207f1c66e5d',\n",
       " '338157271,2020-03-27 02:05:14.000000 +00:00,1306659,431.09,616395888,a934f0d6-5fa6-475d-83df-528364fc8c31']"
      ]
     },
     "execution_count": 7,
     "metadata": {},
     "output_type": "execute_result"
    }
   ],
   "source": [
    "# sales.csv\n",
    "sales_header = sales_rdd.first()\n",
    "sales_rdd = sales_rdd.filter(lambda x: x != sales_header)\n",
    "sales_rdd.take(10)"
   ]
  },
  {
   "cell_type": "markdown",
   "metadata": {},
   "source": [
    "1.1.4 Drop unnecessary columns from RDDs: firstname, lastname, user_session."
   ]
  },
  {
   "cell_type": "code",
   "execution_count": 8,
   "metadata": {
    "scrolled": true
   },
   "outputs": [
    {
     "data": {
      "text/plain": [
       "['514771925,1-5-1963,30A LUCINDA AVENUE,2260,NSW,male,WAMBERAL',\n",
       " '531947692,16-10-2002,82 CAMBERWARRA DRIVE,6025,WA,female,CRAIGIE',\n",
       " '560231306,19-8-2015,74 SOLDIERS ROAD,2281,NSW,male,PELICAN',\n",
       " '575248835,19-1-1962,\"UNIT 1, 1 LARK AVENUE\",5023,SA,female,SEATON',\n",
       " '575243330,19-4-1973,44 CLARENDON ROAD,2048,NSW,female,STANMORE',\n",
       " '516606243,9-6-2011,1 VIOLA CLOSE,4868,QLD,female,BAYVIEW HEIGHTS',\n",
       " '545807768,1-2-1980,31-33 KING STREET,3550,VIC,female,BENDIGO',\n",
       " '529118965,16-5-2012,15 HARWELL WAY,6721,WA,male,WEDGEFIELD',\n",
       " '518625399,5-6-1973,\"UNIT 3, 17 BOX STREET\",6530,WA,female,WEBBERTON',\n",
       " '518273873,27-8-2007,\"UNIT 909, 112 GODERICH STREET\",6004,WA,male,EAST PERTH']"
      ]
     },
     "execution_count": 8,
     "metadata": {},
     "output_type": "execute_result"
    }
   ],
   "source": [
    "users_rdd_trans = users_rdd.map(lambda x: ','.join(x.split(',')[0:1] + x.split(',')[3:]))\n",
    "users_rdd_trans.take(10)\n"
   ]
  },
  {
   "cell_type": "code",
   "execution_count": 9,
   "metadata": {},
   "outputs": [
    {
     "data": {
      "text/plain": [
       "['338156802,2020-03-27 02:03:48.000000 +00:00,4804056,171.56,513119357',\n",
       " '338156808,2020-03-27 02:03:49.000000 +00:00,1005223,209.53,522277649',\n",
       " '338156913,2020-03-27 02:04:11.000000 +00:00,1005212,174.25,632847510',\n",
       " '338156921,2020-03-27 02:04:13.000000 +00:00,1005236,231.15,626579483',\n",
       " '338156953,2020-03-27 02:04:18.000000 +00:00,1005212,174.25,633245502',\n",
       " '338156985,2020-03-27 02:04:24.000000 +00:00,100132156,47.5,541680528',\n",
       " '338157055,2020-03-27 02:04:37.000000 +00:00,3500009,290.84,618162129',\n",
       " '338157122,2020-03-27 02:04:48.000000 +00:00,2300214,386.08,626601722',\n",
       " '338157141,2020-03-27 02:04:52.000000 +00:00,100070443,35.01,604369152',\n",
       " '338157271,2020-03-27 02:05:14.000000 +00:00,1306659,431.09,616395888']"
      ]
     },
     "execution_count": 9,
     "metadata": {},
     "output_type": "execute_result"
    }
   ],
   "source": [
    "# sales: user_session\n",
    "sales_rdd_trans = sales_rdd.map(lambda x: ','.join(x.split(',')[0:5]))\n",
    "sales_rdd_trans.take(10)\n"
   ]
  },
  {
   "cell_type": "markdown",
   "metadata": {},
   "source": [
    "### 1.2 Data Partitioning in RDD <a class=\"anchor\" name=\"1.2\"></a>\n",
    "1.2.1 For each RDD, print out the total number of partitions and the number of records in each partition. Answer the following questions: How many partitions do the above RDDs have? How is the data in these RDDs partitioned by default, when we do not explicitly specify any partitioning strategy? Can you explain why it will be partitioned in this number? If I only have one single core CPU in my PC, what is the default partition's number? (Hint: search the Spark source code to try to answer this question.) Write code and your explanation in Markdown cells."
   ]
  },
  {
   "cell_type": "code",
   "execution_count": 10,
   "metadata": {},
   "outputs": [
    {
     "name": "stdout",
     "output_type": "stream",
     "text": [
      "####### category_rdd INFO:\n",
      "Number of partitions: 2\n",
      "Partitioner:None\n",
      "####### users_rdd INFO:\n",
      "Number of partitions: 39\n",
      "Partitioner:None\n",
      "####### product_rdd INFO:\n",
      "Number of partitions: 2\n",
      "Partitioner:None\n",
      "####### sales_rdd INFO:\n",
      "Number of partitions: 22\n",
      "Partitioner:None\n"
     ]
    }
   ],
   "source": [
    "print(f\"####### category_rdd INFO:\")\n",
    "print('Number of partitions:', category_rdd.getNumPartitions())\n",
    "print(\"Partitioner:{}\".format(category_rdd.partitioner))\n",
    "\n",
    "print(f\"####### users_rdd INFO:\")\n",
    "print('Number of partitions:', users_rdd.getNumPartitions())\n",
    "print(\"Partitioner:{}\".format(users_rdd.partitioner))\n",
    "\n",
    "print(f\"####### product_rdd INFO:\")\n",
    "print('Number of partitions:', product_rdd.getNumPartitions())\n",
    "print(\"Partitioner:{}\".format(product_rdd.partitioner))\n",
    "\n",
    "print(f\"####### sales_rdd INFO:\")\n",
    "print('Number of partitions:', sales_rdd.getNumPartitions())\n",
    "print(\"Partitioner:{}\".format(sales_rdd.partitioner))"
   ]
  },
  {
   "cell_type": "markdown",
   "metadata": {},
   "source": [
    "Category RRD has 2 partitions, Users RRD has 39 partitions, Product RRD has 2 partitions and Sales RRD has 22 partitions.  \n",
    "\n",
    "All 4 RRDs have no specified partitioners. In that case, it is partitioned evenly by default to even out the workload of each work node. \n",
    "\n",
    "The number of partitions depends on the number of CPU and the size of the dataframe. If there's only a core CPU, the default partition will be one as it depends on the number of CPU available ."
   ]
  },
  {
   "cell_type": "markdown",
   "metadata": {},
   "source": [
    "1.2.2. Create a user defined function (UDF) to transform category_code to capitalized words. (e.g. apparel.shoes.ballet_shoes shall be converted to “Apparel Shots Ballet_shoes)."
   ]
  },
  {
   "cell_type": "code",
   "execution_count": 11,
   "metadata": {},
   "outputs": [],
   "source": [
    "def transform_cate(category_code):\n",
    "    words = category_code.split('.')\n",
    "    transform = [word.capitalize() for word in words]\n",
    "    return ' '.join(transform)"
   ]
  },
  {
   "cell_type": "markdown",
   "metadata": {},
   "source": [
    "1.2.3. Join Product and Category RDDs and Create a new key value RDD, using brand as the key and all of the categories of that brand as the value. Print out the first 5 records of the key-value RDD."
   ]
  },
  {
   "cell_type": "code",
   "execution_count": 16,
   "metadata": {},
   "outputs": [
    {
     "data": {
      "text/plain": [
       "[('2090971686529663114', 'appliances.environment.vacuum'),\n",
       " ('2232732116498514828', 'apparel.jeans'),\n",
       " ('2232732109628244704', 'apparel.shirt'),\n",
       " ('2232732103294845523', 'apparel.shoes.step_ins'),\n",
       " ('2232732086500851925', 'apparel.scarf')]"
      ]
     },
     "execution_count": 16,
     "metadata": {},
     "output_type": "execute_result"
    }
   ],
   "source": [
    "# transform product and category\n",
    "    # (brand,cate_id)\n",
    "prod_rdd_2 = prod_rdd.map(lambda x: x.split(',')).\\\n",
    "                        filter(lambda x: x[2] != '') .\\\n",
    "                        map(lambda x: (x[2],x[1]))\n",
    "                        \n",
    "\n",
    "    # (category_id,category_code)\n",
    "cat_rdd_2 = cat_rdd.map(lambda x: x.split(',')).\\\n",
    "                    map(lambda x: (x[0], x[1]))\n",
    "cat_rdd_2.take(5)"
   ]
  },
  {
   "cell_type": "code",
   "execution_count": 25,
   "metadata": {},
   "outputs": [
    {
     "data": {
      "text/plain": [
       "[('beko', '2053013563911439225'),\n",
       " ('beko', '2232732092297380188'),\n",
       " ('beko', '2053013557385101831'),\n",
       " ('beko', '2232732091718566220'),\n",
       " ('beko', '2053013557695480347')]"
      ]
     },
     "execution_count": 25,
     "metadata": {},
     "output_type": "execute_result"
    }
   ],
   "source": [
    "# left outer join 2 rdd as there is no attribute in common\n",
    "joined_rdd = prod_rdd_2.leftOuterJoin(cat_rdd_2)\n",
    "joined_rdd = joined_rdd.map(lambda x: (x[0], x[1][0]) if x[1][1] is None else x)\n",
    "joined_rdd.take(5)"
   ]
  },
  {
   "cell_type": "code",
   "execution_count": 17,
   "metadata": {},
   "outputs": [
    {
     "name": "stdout",
     "output_type": "stream",
     "text": [
      "Brand: beko\n",
      "Categories: {'2053013555120177537', '2053013564003713919', '2053013563877884791', '2232732091718566220', '2232732101835227701', '2053013563970159485', '2232732100769874463', '2232732062048060242', '2053013563944993659', '2232732102103663163', '2053013563743667055', '2053013557385101831', '2053013563768832881', '2232732091307524418', '2053013563835941749', '2053013563810775923', '2232732102749585991', '2053013563911439225', '2232732092297380188', '2232732111775728410', '2053013554776244595', '2232732092565815652', '2053013557695480347', '2053013552351936731'}\n",
      "==================================================\n",
      "Brand: cd\n",
      "Categories: {'2232732100954423843', '2053013557603205653'}\n",
      "==================================================\n",
      "Brand: midea\n",
      "Categories: {'2053013560899928785', '2232732086928670945', '2232732092565815652', '2053013564003713919', '2053013566176363511', '2053013557452210699', '2053013563877884791', '2053013565983425517', '2232732091718566220', '2232732099519971845', '2232732097473151444', '2232732100342055447', '2232732100769874463', '2232732091391410500', '2053013563944993659', '2232732102103663163', '2053013563743667055', '2232732106717397655', '2053013557385101831', '2232732102414041665', '2232732101734564403', '2053013563768832881', '2232732091307524418', '2053013563835941749', '2053013563810775923', '2232732101063475749', '2232732102749585991', '2053013563911439225', '2232732092297380188', '2053013558190408249', '2053013552293216471', '2232732111775728410', '2053013554776244595', '2232732091961835858', '2053013563718501229', '2053013557695480347', '2053013552351936731', '2053013552326770905', '2053013566142809077'}\n",
      "==================================================\n",
      "Brand: yokohama\n",
      "Categories: {'2053013553199186187', '2053013554566529381', '2053013553559896355'}\n",
      "==================================================\n",
      "Brand: hp\n",
      "Categories: {'2053013552662315243', '2053013555287949705', '2053013556168753601', '2232732091643068746', '2232732062115169108', '2232732082390433922', '2053013552259662037', '2053013552637149417', '2232732086358245585', '2053013563877884791', '2232732101407408685', '2232732104343421549', '2232732110861370114', '2053013552737812719', '2232732079706079299', '2053013553199186187', '2232732104066597479', '2232732100224614933', '2053013554566529381', '2053013563970159485', '2053013552888807671', '2053013553341792533', '2053013560346280633', '2053013554834964853', '2232732103982711397', '2053013553283072273', '2053013563835941749', '2053013554658804075', '2053013553031414015', '2053013554625249641', '2053013558945383017', '2232732104175649385', '2232732099981345295', '2053013552913973497', '2232732107019387551', '2127425434894205468', '2053013551907340482', '2053013553375346967', '2053013553056579841', '2110937219442148235', '2053013558920217191', '2053013552955916539', '2053013558458843721', '2053013561092866779', '2053013553559896355', '2053013552821698803', '2232732073574007777', '2232732071460078545', '2053013555220840837', '2053013553945772349', '2059484599339188409'}\n",
      "==================================================\n"
     ]
    }
   ],
   "source": [
    "# transform to (brand, {category_ids})\n",
    "brand_categories_rdd = joined_rdd.groupByKey().map(lambda x: (x[0], set(x[1])))\n",
    "result = brand_categories_rdd.take(5)\n",
    "\n",
    "# print the first 5 (brand, (cate_code))\n",
    "for brand, categories in result:\n",
    "    print(\"Brand:\", brand)\n",
    "    print(\"Categories:\", categories)\n",
    "    print(\"=\" * 50)"
   ]
  },
  {
   "cell_type": "markdown",
   "metadata": {},
   "source": [
    "### 1.3 Query/Analysis <a class=\"anchor\" name=\"1.3\"></a>\n",
    "For this part, write relevant RDD operations to answer the following queries.\n",
    "\n",
    "**1.3.1 Calculate the average daily sales for each year, each month. Print the results as the following format(see assignment specification).**"
   ]
  },
  {
   "cell_type": "code",
   "execution_count": 18,
   "metadata": {},
   "outputs": [
    {
     "data": {
      "text/plain": [
       "['338156802,2020-03-27 02:03:48.000000 +00:00,4804056,171.56,513119357,0ad58441-9db9-48bd-9ee7-accf603f06e0',\n",
       " '338156808,2020-03-27 02:03:49.000000 +00:00,1005223,209.53,522277649,2ecb2725-2c40-4acb-8ef1-05e39ea4c2cc',\n",
       " '338156913,2020-03-27 02:04:11.000000 +00:00,1005212,174.25,632847510,43609582-1818-4885-bd72-3791f3a4ec93',\n",
       " '338156921,2020-03-27 02:04:13.000000 +00:00,1005236,231.15,626579483,bbf972ef-8f8d-4a33-bcbd-ac09af67ea40',\n",
       " '338156953,2020-03-27 02:04:18.000000 +00:00,1005212,174.25,633245502,90166e0d-d7da-4997-b479-bc3a0fd724d6']"
      ]
     },
     "execution_count": 18,
     "metadata": {},
     "output_type": "execute_result"
    }
   ],
   "source": [
    "sales_rdd.take(5)"
   ]
  },
  {
   "cell_type": "code",
   "execution_count": 19,
   "metadata": {},
   "outputs": [
    {
     "data": {
      "text/plain": [
       "[(2020, 3, 171.56),\n",
       " (2020, 3, 209.53),\n",
       " (2020, 3, 174.25),\n",
       " (2020, 3, 231.15),\n",
       " (2020, 3, 174.25)]"
      ]
     },
     "execution_count": 19,
     "metadata": {},
     "output_type": "execute_result"
    }
   ],
   "source": [
    "def extract_year_month(col_data):\n",
    "    parts = col_data.split(\" \")[0].split(\"-\")\n",
    "    year = int(parts[0])\n",
    "    month = int(parts[1])\n",
    "    return year, month\n",
    "\n",
    "# split by ',' + extract time and concate price + remove () & change datatype\n",
    "sales_rdd_trans = sales_rdd.map(lambda x: x.split(',')).\\\n",
    "                        map(lambda x: (extract_year_month(x[1]),x[3])).\\\n",
    "                        map(lambda x: (x[0][0], x[0][1], float(x[1])))\n",
    "sales_rdd_trans.take(5)"
   ]
  },
  {
   "cell_type": "code",
   "execution_count": 20,
   "metadata": {},
   "outputs": [],
   "source": [
    "# create new rdd ((year,month),(sales,counter))\n",
    "# grouped by key:(year, month) + aggregate sales & increase counter\n",
    "grouped_sales = sales_rdd_trans.map(lambda x: ((x[0], x[1]), (x[2], 1))).\\\n",
    "                            reduceByKey(lambda a, b: (a[0] + b[0], a[1] + b[1]))\n",
    "\n",
    "\n",
    "# find average - total sales / counter\n",
    "# sort by year and month\n",
    "average_sales = grouped_sales.mapValues(lambda x: x[0] / x[1] if x[1] > 0 else 0).\\\n",
    "                        sortByKey()\n"
   ]
  },
  {
   "cell_type": "code",
   "execution_count": 21,
   "metadata": {
    "scrolled": true
   },
   "outputs": [
    {
     "name": "stdout",
     "output_type": "stream",
     "text": [
      "year|month|avg_sales\n",
      "2019|10|309.56\n",
      "2019|11|300.12\n",
      "2019|12|296.18\n",
      "2020|1|312.61\n",
      "2020|2|317.57\n",
      "2020|3|313.56\n",
      "2020|4|252.93\n"
     ]
    }
   ],
   "source": [
    "print(\"year|month|avg_sales\")\n",
    "for (year, month), avg_sales in average_sales.collect():\n",
    "    print(f\"{year}|{month}|{avg_sales:.2f}\")\n"
   ]
  },
  {
   "cell_type": "markdown",
   "metadata": {},
   "source": [
    "**1.3.2 Find 10 of the best selling brands. You should display the brand and total revenue in the result.**"
   ]
  },
  {
   "cell_type": "code",
   "execution_count": 22,
   "metadata": {},
   "outputs": [
    {
     "data": {
      "text/plain": [
       "[('4804056', '171.56'),\n",
       " ('1005223', '209.53'),\n",
       " ('1005212', '174.25'),\n",
       " ('1005236', '231.15'),\n",
       " ('1005212', '174.25')]"
      ]
     },
     "execution_count": 22,
     "metadata": {},
     "output_type": "execute_result"
    }
   ],
   "source": [
    "# split by comma\n",
    "sales_key_value = sales_rdd.map(lambda line: (line.split(',')[2], line.split(',')[3]))\n",
    "sales_key_value.take(5)"
   ]
  },
  {
   "cell_type": "code",
   "execution_count": 23,
   "metadata": {},
   "outputs": [
    {
     "data": {
      "text/plain": [
       "[('100007811', 'etro'),\n",
       " ('13201248', 'brw'),\n",
       " ('2701879', 'beko'),\n",
       " ('11800014', 'sony'),\n",
       " ('100093322', 'cd')]"
      ]
     },
     "execution_count": 23,
     "metadata": {},
     "output_type": "execute_result"
    }
   ],
   "source": [
    "# split by comma + filter out empty brand + extract prod_id & brand\n",
    "prod_key_value = prod_rdd.map(lambda x: x.split(',')).\\\n",
    "                        filter(lambda x: x[2] != '') .\\\n",
    "                        map(lambda x: (x[0],x[2]))\n",
    "                    \n",
    "prod_key_value.take(5)"
   ]
  },
  {
   "cell_type": "code",
   "execution_count": 24,
   "metadata": {},
   "outputs": [
    {
     "data": {
      "text/plain": [
       "[('100073140', ('hp', '876.75')),\n",
       " ('100073140', ('hp', '876.75')),\n",
       " ('100073140', ('hp', '876.75')),\n",
       " ('100073140', ('hp', '876.75')),\n",
       " ('100073140', ('hp', '876.75')),\n",
       " ('100073140', ('hp', '876.75')),\n",
       " ('100073140', ('hp', '876.75')),\n",
       " ('100073140', ('hp', '876.75')),\n",
       " ('100073140', ('hp', '876.75')),\n",
       " ('100073140', ('hp', '876.75')),\n",
       " ('100073140', ('hp', '876.75')),\n",
       " ('100073140', ('hp', '876.75')),\n",
       " ('100073140', ('hp', '876.75')),\n",
       " ('100073140', ('hp', '876.75')),\n",
       " ('100073140', ('hp', '876.75'))]"
      ]
     },
     "execution_count": 24,
     "metadata": {},
     "output_type": "execute_result"
    }
   ],
   "source": [
    "# left outer join\n",
    "prod_sales = prod_key_value.leftOuterJoin(sales_key_value)\n",
    "prod_sales.take(15)"
   ]
  },
  {
   "cell_type": "code",
   "execution_count": 25,
   "metadata": {},
   "outputs": [
    {
     "data": {
      "text/plain": [
       "[('alcon', 4419.59),\n",
       " ('nike', 654194.3899999999),\n",
       " ('midea', 7306327.500000024),\n",
       " ('genius', 24857.42),\n",
       " ('medi-peel', 3431.3999999999996)]"
      ]
     },
     "execution_count": 25,
     "metadata": {},
     "output_type": "execute_result"
    }
   ],
   "source": [
    "# Extract brand and price + calculate total revenue\n",
    "brand_rdd = prod_sales.map(lambda x: x[1]).\\\n",
    "                map(lambda x: (x[0],float(x[1])))\n",
    "tt_rev_by_brand = brand_rdd.reduceByKey(lambda a, b: a + b)\n",
    "tt_rev_by_brand.take(5)"
   ]
  },
  {
   "cell_type": "code",
   "execution_count": 26,
   "metadata": {},
   "outputs": [
    {
     "name": "stdout",
     "output_type": "stream",
     "text": [
      "Top 10 Best Selling Brands:\n",
      "0: apple, Total Revenue: 1846051463.73\n",
      "1: samsung, Total Revenue: 786833558.91\n",
      "2: xiaomi, Total Revenue: 175269314.73\n",
      "3: huawei, Total Revenue: 80182987.27\n",
      "4: lg, Total Revenue: 73917724.57\n",
      "5: lucente, Total Revenue: 54369150.00\n",
      "6: sony, Total Revenue: 53442507.92\n",
      "7: acer, Total Revenue: 53330141.39\n",
      "8: oppo, Total Revenue: 51687235.69\n",
      "9: lenovo, Total Revenue: 43567604.38\n"
     ]
    }
   ],
   "source": [
    "top_10_brands = tt_rev_by_brand.takeOrdered(10, key=lambda x: -x[1])\n",
    "print('Top 10 Best Selling Brands:')\n",
    "for i,(brand, revenue) in enumerate(top_10_brands):\n",
    "    print(f\"{i}: {brand}, Total Revenue: {revenue:.2f}\")"
   ]
  },
  {
   "cell_type": "markdown",
   "metadata": {},
   "source": [
    "## Part 2. Working with DataFrames <a class=\"anchor\" name=\"2-dataframes\"></a>\n",
    "\n",
    "### 2.1 Data Preparation and Loading\n",
    "\n",
    "**2.1.1. Load CUPS into four separate dataframes. When you create your dataframes, please refer to the metadata file and think about the appropriate data type for each columns (Note: Initially, you should read date/time related column as the string type).**"
   ]
  },
  {
   "cell_type": "code",
   "execution_count": 27,
   "metadata": {},
   "outputs": [],
   "source": [
    "sc.stop()"
   ]
  },
  {
   "cell_type": "code",
   "execution_count": 28,
   "metadata": {},
   "outputs": [],
   "source": [
    "# Import SparkConf class into program\n",
    "from pyspark import SparkConf\n",
    "\n",
    "# local[*]: run Spark in local mode with as many working processors as logical cores on your machine\n",
    "# If we want Spark to run locally with 'k' worker threads, we can specify as \"local[k]\".\n",
    "master = \"local[*]\"\n",
    "# The `appName` field is a name to be shown on the Spark cluster UI page\n",
    "app_name = \"Asg 1 Part 2\"\n",
    "# Setup configuration parameters for Spark\n",
    "spark_conf = SparkConf().setMaster(master).setAppName(app_name)\n",
    "\n",
    "# Import SparkContext and SparkSession classes\n",
    "from pyspark import SparkContext # Spark\n",
    "from pyspark.sql import SparkSession # Spark SQL\n",
    "\n",
    "# # Method 1: Using SparkSession\n",
    "spark = SparkSession.builder.config(conf=spark_conf).getOrCreate()\n",
    "spark.conf.set(\"spark.sql.session.timeZone\", \"Australia/Melbourne\")\n",
    "sc = spark.sparkContext\n",
    "sc.setLogLevel('ERROR')"
   ]
  },
  {
   "cell_type": "code",
   "execution_count": 30,
   "metadata": {},
   "outputs": [],
   "source": [
    "df_category = spark.read.csv('sales/category.csv',header=True).dropDuplicates([\"category_id\"])\n",
    "df_users = spark.read.csv(\"users.csv\",header=True)\n",
    "df_product = spark.read.csv(\"sales/product.csv\",header=True)\n",
    "\n",
    "# there are some duplicated transactions found in sales \n",
    "# possibly because of failure of payment resulting multiple transaction of same item\n",
    "df_sales = spark.read.csv(\"sales/sales.csv\",header=True).dropDuplicates([\"sales_timestamp\",\"product_id\",\"price\",\"user_id\"])\n"
   ]
  },
  {
   "cell_type": "markdown",
   "metadata": {},
   "source": [
    "**2.1.2 Display the schema of the four dataframes.**"
   ]
  },
  {
   "cell_type": "code",
   "execution_count": 31,
   "metadata": {},
   "outputs": [
    {
     "name": "stdout",
     "output_type": "stream",
     "text": [
      "####### df_category schema:\n",
      "Number of partitions: 1\n",
      "root\n",
      " |-- category_id: string (nullable = true)\n",
      " |-- category_code: string (nullable = true)\n",
      "\n",
      "####### df_users schema:\n",
      "Number of partitions: 10\n",
      "root\n",
      " |-- user_id: string (nullable = true)\n",
      " |-- firstname: string (nullable = true)\n",
      " |-- lastname: string (nullable = true)\n",
      " |-- dob: string (nullable = true)\n",
      " |-- address: string (nullable = true)\n",
      " |-- postcode: string (nullable = true)\n",
      " |-- state: string (nullable = true)\n",
      " |-- sex: string (nullable = true)\n",
      " |-- suburb: string (nullable = true)\n",
      "\n",
      "####### df_product schema:\n",
      "Number of partitions: 3\n",
      "root\n",
      " |-- product_id: string (nullable = true)\n",
      " |-- category_id: string (nullable = true)\n",
      " |-- brand: string (nullable = true)\n",
      " |-- avg_cost: string (nullable = true)\n",
      "\n",
      "####### df_sales schema:\n",
      "Number of partitions: 9\n",
      "root\n",
      " |-- id: string (nullable = true)\n",
      " |-- sales_timestamp: string (nullable = true)\n",
      " |-- product_id: string (nullable = true)\n",
      " |-- price: string (nullable = true)\n",
      " |-- user_id: string (nullable = true)\n",
      " |-- user_session: string (nullable = true)\n",
      "\n"
     ]
    }
   ],
   "source": [
    "print(f\"####### df_category schema:\")\n",
    "print(f\"Number of partitions: {df_category.rdd.getNumPartitions()}\")\n",
    "df_category.printSchema()\n",
    "\n",
    "print(f\"####### df_users schema:\")\n",
    "print(f\"Number of partitions: {df_users.rdd.getNumPartitions()}\")\n",
    "df_users.printSchema()\n",
    "\n",
    "print(f\"####### df_product schema:\")\n",
    "print(f\"Number of partitions: {df_product.rdd.getNumPartitions()}\")\n",
    "df_product.printSchema()\n",
    "\n",
    "\n",
    "print(f\"####### df_sales schema:\")\n",
    "print(f\"Number of partitions: {df_sales.rdd.getNumPartitions()}\")\n",
    "df_sales.printSchema()"
   ]
  },
  {
   "cell_type": "markdown",
   "metadata": {},
   "source": [
    "### 2.2 QueryAnalysis  <a class=\"anchor\" name=\"2.2\"></a>\n",
    "**2.2.1. Transform the 'sales_time' column in the sales dataframe to the date type; extract the hour in sales_date and create a new column “sales_hour”; after that, show the schema.**"
   ]
  },
  {
   "cell_type": "code",
   "execution_count": 32,
   "metadata": {},
   "outputs": [
    {
     "name": "stdout",
     "output_type": "stream",
     "text": [
      "root\n",
      " |-- id: string (nullable = true)\n",
      " |-- sales_timestamp: date (nullable = true)\n",
      " |-- product_id: string (nullable = true)\n",
      " |-- price: string (nullable = true)\n",
      " |-- user_id: string (nullable = true)\n",
      " |-- user_session: string (nullable = true)\n",
      " |-- sales_hour: integer (nullable = true)\n",
      "\n"
     ]
    }
   ],
   "source": [
    "from pyspark.sql.functions import col, to_date, hour,to_timestamp\n",
    "\n",
    "# transform into timestamp for extracting hour\n",
    "df_sales = df_sales.withColumn(\"sales_timestamp\", to_timestamp(\"sales_timestamp\", \"yyyy-MM-dd HH:mm:ss.SSSSSS XXX\"))\n",
    "\n",
    "# new column 'sales_hour'\n",
    "df_sales = df_sales.withColumn(\"sales_hour\", hour(\"sales_timestamp\"))\n",
    "\n",
    "# Convert back 'sales_timestamp' to date\n",
    "df_sales = df_sales.withColumn(\"sales_timestamp\", to_date(col(\"sales_timestamp\")))\n",
    "\n",
    "# schema\n",
    "df_sales.printSchema()\n",
    "\n"
   ]
  },
  {
   "cell_type": "code",
   "execution_count": 33,
   "metadata": {},
   "outputs": [],
   "source": [
    "# issue raise w/out setting up this: \n",
    "# Fail to parse '2020-03-27 02:03:48.000000 +00:00' in the new parser. \n",
    "# You can set \"spark.sql.legacy.timeParserPolicy\" to \"LEGACY\" to restore \n",
    "# the behavior before Spark 3.0, or set to \"CORRECTED\" and treat it as an invalid datetime string.\n",
    "spark.conf.set(\"spark.sql.legacy.timeParserPolicy\", \"LEGACY\")"
   ]
  },
  {
   "cell_type": "code",
   "execution_count": 34,
   "metadata": {},
   "outputs": [
    {
     "data": {
      "text/plain": [
       "6697411"
      ]
     },
     "execution_count": 34,
     "metadata": {},
     "output_type": "execute_result"
    }
   ],
   "source": [
    "df_sales.count()"
   ]
  },
  {
   "cell_type": "markdown",
   "metadata": {},
   "source": [
    "**2.2.2. Calculate total sales for each hour, sort your result based on each hour’s sales in a descending order. Print out the sales_hour and total_sales columns.**"
   ]
  },
  {
   "cell_type": "code",
   "execution_count": 35,
   "metadata": {},
   "outputs": [
    {
     "name": "stdout",
     "output_type": "stream",
     "text": [
      "root\n",
      " |-- id: string (nullable = true)\n",
      " |-- sales_timestamp: date (nullable = true)\n",
      " |-- product_id: string (nullable = true)\n",
      " |-- price: string (nullable = true)\n",
      " |-- user_id: string (nullable = true)\n",
      " |-- user_session: string (nullable = true)\n",
      " |-- sales_hour: integer (nullable = true)\n",
      "\n",
      "root\n",
      " |-- id: string (nullable = true)\n",
      " |-- sales_timestamp: date (nullable = true)\n",
      " |-- product_id: string (nullable = true)\n",
      " |-- price: double (nullable = true)\n",
      " |-- user_id: string (nullable = true)\n",
      " |-- user_session: string (nullable = true)\n",
      " |-- sales_hour: integer (nullable = true)\n",
      "\n"
     ]
    }
   ],
   "source": [
    "from pyspark.sql import functions as F\n",
    "from pyspark.sql.types import DoubleType\n",
    "df_sales.printSchema()\n",
    "\n",
    "# Cast 'price' column to float\n",
    "df_sales = df_sales.withColumn(\"price\", F.col('price').cast(DoubleType()))\n",
    "\n",
    "df_sales.printSchema()"
   ]
  },
  {
   "cell_type": "code",
   "execution_count": 36,
   "metadata": {},
   "outputs": [
    {
     "name": "stdout",
     "output_type": "stream",
     "text": [
      "+----------+-----------+\n",
      "|sales_hour|total_sales|\n",
      "+----------+-----------+\n",
      "|        23|     399835|\n",
      "|        22|     434415|\n",
      "|        21|     471683|\n",
      "|        20|     492988|\n",
      "|        19|     492336|\n",
      "|        18|     473337|\n",
      "|        17|     451626|\n",
      "|        16|     411910|\n",
      "|        15|     344162|\n",
      "|        14|     232519|\n",
      "|        13|     114602|\n",
      "|        12|      50789|\n",
      "|        11|      31405|\n",
      "|        10|      29405|\n",
      "|         9|      41124|\n",
      "|         8|      62832|\n",
      "|         7|      99823|\n",
      "|         6|     158893|\n",
      "|         5|     219623|\n",
      "|         4|     281196|\n",
      "+----------+-----------+\n",
      "only showing top 20 rows\n",
      "\n"
     ]
    }
   ],
   "source": [
    "# aggregate price by sales_hour to find total_sales\n",
    "df_sales_hour = df_sales.groupBy(\"sales_hour\").agg(F.count('price').alias(\"total_sales\"))\n",
    "\n",
    "# sort by total_sales\n",
    "df_sales_hour_sorted = df_sales_hour.orderBy(col(\"total_sales\").desc())\n",
    "\n",
    "# Show the sales_hour\n",
    "df_sales_hour_sorted = df_sales_hour.orderBy(col(\"sales_hour\").desc())\n",
    "\n",
    "df_sales_hour_sorted.show()"
   ]
  },
  {
   "cell_type": "markdown",
   "metadata": {},
   "source": [
    "**2.2.3.Find 10 most profitable categories (profit can be simply defined as price - avg_cost). Print out the category name and total profit. Please print the category name in capitalized word format(hint: you can reuse the UDF defined in part 1.)**"
   ]
  },
  {
   "cell_type": "code",
   "execution_count": 37,
   "metadata": {},
   "outputs": [
    {
     "name": "stdout",
     "output_type": "stream",
     "text": [
      "root\n",
      " |-- product_id: string (nullable = true)\n",
      " |-- category_id: string (nullable = true)\n",
      " |-- brand: string (nullable = true)\n",
      " |-- avg_cost: string (nullable = true)\n",
      "\n",
      "root\n",
      " |-- id: string (nullable = true)\n",
      " |-- sales_timestamp: date (nullable = true)\n",
      " |-- product_id: string (nullable = true)\n",
      " |-- price: double (nullable = true)\n",
      " |-- user_id: string (nullable = true)\n",
      " |-- user_session: string (nullable = true)\n",
      " |-- sales_hour: integer (nullable = true)\n",
      "\n"
     ]
    }
   ],
   "source": [
    "from pyspark.sql.functions import udf,col\n",
    "from pyspark.sql.types import StringType\n",
    "def transform_cate(category_code):\n",
    "    words = category_code.split('.')\n",
    "    transform = [word.capitalize() for word in words]\n",
    "    return ' '.join(transform)\n",
    "\n",
    "# register function\n",
    "transform_cate_udf = udf(transform_cate, StringType())\n",
    "df_product.printSchema()\n",
    "df_sales.printSchema()"
   ]
  },
  {
   "cell_type": "code",
   "execution_count": 38,
   "metadata": {},
   "outputs": [
    {
     "name": "stdout",
     "output_type": "stream",
     "text": [
      "+-------------------+----------------------------+------------+\n",
      "|category_id        |category_name               |total_profit|\n",
      "+-------------------+----------------------------+------------+\n",
      "|2053013555631882655|Electronics Smartphone      |3055630     |\n",
      "|2232732093077520756|Construction Tools Light    |3010511     |\n",
      "|2053013554658804075|Electronics Audio Headphone |510410      |\n",
      "|2232732079706079299|Sport Bicycle               |318066      |\n",
      "|2053013554415534427|Electronics Video Tv        |237814      |\n",
      "|2232732099754852875|Appliances Personal Massager|204840      |\n",
      "|2053013553199186187|Others                      |198882      |\n",
      "|2053013553559896355|Others                      |197989      |\n",
      "|2053013558920217191|Computers Notebook          |162896      |\n",
      "|2232732103101907535|Electronics Clocks          |125647      |\n",
      "+-------------------+----------------------------+------------+\n",
      "only showing top 10 rows\n",
      "\n"
     ]
    }
   ],
   "source": [
    "# convert avg_cost into float\n",
    "df_product = df_product.withColumn(\"avg_cost\", F.col(\"avg_cost\").cast(DoubleType()))\n",
    "\n",
    "# join sales product category\n",
    "df_joined = df_sales.join(df_product, on=\"product_id\").join(df_category, on=\"category_id\")\n",
    "\n",
    "# find profit & apply udf to category code\n",
    "df_profit = df_joined.withColumn(\"profit\", (col(\"price\") - col(\"avg_cost\")).cast(DoubleType())).\\\n",
    "                    withColumn(\"category_name\", transform_cate_udf(col(\"category_code\")))  \n",
    "\n",
    "\n",
    "# groupby to aggregate profit as total profit\n",
    "df_total_profit = df_profit.groupBy(\"category_id\", \"category_name\").agg(F.count(\"profit\").alias(\"total_profit\"))\n",
    "\n",
    "# sort by profit \n",
    "df_sorted_profit = df_total_profit.orderBy(col(\"total_profit\").desc())\n",
    "\n",
    "df_sorted_profit.show(10, truncate=False)\n",
    "\n"
   ]
  },
  {
   "cell_type": "markdown",
   "metadata": {},
   "source": [
    "The most profitable 10 products are: \n",
    "1) Electronics Smartphone\n",
    "2) Construction Tools Light\n",
    "3) Electronics Audio Headphone\n",
    "4) Sport Bicycle      \n",
    "5) Electronics Video Tv     \n",
    "6) Appliances Personal Massager\n",
    "7) Others\n",
    "8) Others\n",
    "9) Computers Notebook \n",
    "10) Electronics Clocks     \n"
   ]
  },
  {
   "cell_type": "markdown",
   "metadata": {},
   "source": [
    "**2.2.4. Use DataFrame filters to find all transactions sold at loss (defined as price < avg_cost), calculate 10 worst loss margin in percentage. (margin is defined as (price - avg_cost)/avg_cost; if price - avg_cost > 0, it’s call a profit margin; otherwise a loss margin)**"
   ]
  },
  {
   "cell_type": "code",
   "execution_count": 39,
   "metadata": {},
   "outputs": [
    {
     "name": "stdout",
     "output_type": "stream",
     "text": [
      "root\n",
      " |-- product_id: string (nullable = true)\n",
      " |-- category_id: string (nullable = true)\n",
      " |-- brand: string (nullable = true)\n",
      " |-- avg_cost: double (nullable = true)\n",
      "\n",
      "root\n",
      " |-- id: string (nullable = true)\n",
      " |-- sales_timestamp: date (nullable = true)\n",
      " |-- product_id: string (nullable = true)\n",
      " |-- price: double (nullable = true)\n",
      " |-- user_id: string (nullable = true)\n",
      " |-- user_session: string (nullable = true)\n",
      " |-- sales_hour: integer (nullable = true)\n",
      "\n",
      "root\n",
      " |-- category_id: string (nullable = true)\n",
      " |-- product_id: string (nullable = true)\n",
      " |-- id: string (nullable = true)\n",
      " |-- sales_timestamp: date (nullable = true)\n",
      " |-- price: double (nullable = true)\n",
      " |-- user_id: string (nullable = true)\n",
      " |-- user_session: string (nullable = true)\n",
      " |-- sales_hour: integer (nullable = true)\n",
      " |-- brand: string (nullable = true)\n",
      " |-- avg_cost: double (nullable = true)\n",
      " |-- category_code: string (nullable = true)\n",
      "\n"
     ]
    }
   ],
   "source": [
    "df_product.printSchema()\n",
    "df_sales.printSchema()\n",
    "df_joined.printSchema()"
   ]
  },
  {
   "cell_type": "code",
   "execution_count": 40,
   "metadata": {},
   "outputs": [],
   "source": [
    "from pyspark.sql.functions import udf,col\n",
    "from pyspark.sql.types import StringType,DoubleType\n",
    "def transform_cate(category_code):\n",
    "    words = category_code.split('.')\n",
    "    transform = [word.capitalize() for word in words]\n",
    "    return ' '.join(transform)\n",
    "\n",
    "# register function\n",
    "transform_cate_udf = udf(transform_cate, StringType())"
   ]
  },
  {
   "cell_type": "code",
   "execution_count": 41,
   "metadata": {},
   "outputs": [
    {
     "name": "stdout",
     "output_type": "stream",
     "text": [
      "root\n",
      " |-- category_id: string (nullable = true)\n",
      " |-- product_id: string (nullable = true)\n",
      " |-- id: string (nullable = true)\n",
      " |-- sales_timestamp: date (nullable = true)\n",
      " |-- price: double (nullable = true)\n",
      " |-- user_id: string (nullable = true)\n",
      " |-- user_session: string (nullable = true)\n",
      " |-- sales_hour: integer (nullable = true)\n",
      " |-- brand: string (nullable = true)\n",
      " |-- avg_cost: double (nullable = true)\n",
      " |-- category_code: string (nullable = true)\n",
      " |-- loss_margin: double (nullable = true)\n",
      " |-- category_name: string (nullable = true)\n",
      "\n",
      "+-------------------+--------------------------+------+----------------+---------------------+\n",
      "|category_id        |category_name             |price |avg_cost        |loss_margin          |\n",
      "+-------------------+--------------------------+------+----------------+---------------------+\n",
      "|2053013563877884791|Appliances Kitchen Hob    |360.34|395.472783241237|-0.08883742378753315 |\n",
      "|2053013555631882655|Electronics Smartphone    |181.91|183.683105172603|-0.009653066192107663|\n",
      "|2232732107967300275|Apparel Underwear         |52.08 |59.3687378771853|-0.12277063885480173 |\n",
      "|2053013553140465927|Kids Toys                 |46.33 |50.4832883075327|-0.08227055817425794 |\n",
      "|2053013563743667055|Appliances Kitchen Hood   |82.37 |86.7245767442574|-0.050211565253280355|\n",
      "|2232732078733000751|Electronics Telephone     |152.36|199.946666973685|-0.2379968003164958  |\n",
      "|2053013558920217191|Computers Notebook        |262.3 |284.891985199463|-0.0793001782189329  |\n",
      "|2232732108982321870|Apparel Costume           |5.15  |12.53091298411  |-0.5890163784130868  |\n",
      "|2053013554415534427|Electronics Video Tv      |123.53|135.04043847094 |-0.08523697494818913 |\n",
      "|2053013557670314521|Electronics Audio Acoustic|18.76 |28.4062381732157|-0.3395816832343241  |\n",
      "+-------------------+--------------------------+------+----------------+---------------------+\n",
      "only showing top 10 rows\n",
      "\n"
     ]
    }
   ],
   "source": [
    "# create new col: loss_margin\n",
    "# convert loss_margin into float\n",
    "# transform cate_code\n",
    "df_profit = df_joined.withColumn(\"loss_margin\", (col(\"price\") - col(\"avg_cost\")) / col(\"avg_cost\")).\\\n",
    "                    withColumn(\"loss_margin\", col(\"loss_margin\").cast(DoubleType())) .\\\n",
    "                    withColumn(\"category_name\", transform_cate_udf(col(\"category_code\")))  \n",
    "\n",
    "\n",
    "# filter & sort\n",
    "df_loss = df_profit.filter(col(\"loss_margin\") < 0)\n",
    "df_loss_sort = df_loss.orderBy(df_loss.loss_margin)\n",
    "df_loss_sort.printSchema()\n",
    "\n",
    "# worst 10\n",
    "worst_loss_margins = df_loss_sort.select(df_category[\"category_id\"],\"category_name\", \"price\", \"avg_cost\", \"loss_margin\").distinct()\n",
    "worst_loss_margins.show(10,truncate=False)\n"
   ]
  },
  {
   "cell_type": "markdown",
   "metadata": {},
   "source": [
    "The highest loss margin 10 products are: \n",
    "1) Construction Tools Light  \n",
    "2) Appliances Environment Water_heater\n",
    "3) Appliances Personal Scales   \n",
    "4) Sport Ski \n",
    "5) Sport Ski \n",
    "6) Electronics Audio Headphone \n",
    "7) Others      \n",
    "8) Electronics Smartphone \n",
    "9) Electronics Telephone       \n",
    "10) Others"
   ]
  },
  {
   "cell_type": "markdown",
   "metadata": {},
   "source": [
    "**2.2.5. Draw a barchart to show total sales from different states in each year.**"
   ]
  },
  {
   "cell_type": "code",
   "execution_count": 42,
   "metadata": {},
   "outputs": [],
   "source": [
    "import seaborn as sns\n",
    "import pandas as pd\n",
    "import matplotlib.pyplot as plt"
   ]
  },
  {
   "cell_type": "code",
   "execution_count": 43,
   "metadata": {},
   "outputs": [
    {
     "name": "stdout",
     "output_type": "stream",
     "text": [
      "root\n",
      " |-- user_id: string (nullable = true)\n",
      " |-- firstname: string (nullable = true)\n",
      " |-- lastname: string (nullable = true)\n",
      " |-- dob: string (nullable = true)\n",
      " |-- address: string (nullable = true)\n",
      " |-- postcode: string (nullable = true)\n",
      " |-- state: string (nullable = true)\n",
      " |-- sex: string (nullable = true)\n",
      " |-- suburb: string (nullable = true)\n",
      "\n",
      "root\n",
      " |-- id: string (nullable = true)\n",
      " |-- sales_timestamp: date (nullable = true)\n",
      " |-- product_id: string (nullable = true)\n",
      " |-- price: double (nullable = true)\n",
      " |-- user_id: string (nullable = true)\n",
      " |-- user_session: string (nullable = true)\n",
      " |-- sales_hour: integer (nullable = true)\n",
      "\n"
     ]
    }
   ],
   "source": [
    "df_users.printSchema()\n",
    "df_sales.printSchema()"
   ]
  },
  {
   "cell_type": "code",
   "execution_count": 44,
   "metadata": {},
   "outputs": [
    {
     "name": "stdout",
     "output_type": "stream",
     "text": [
      "root\n",
      " |-- id: string (nullable = true)\n",
      " |-- sales_timestamp: date (nullable = true)\n",
      " |-- product_id: string (nullable = true)\n",
      " |-- price: double (nullable = true)\n",
      " |-- user_id: string (nullable = true)\n",
      " |-- user_session: string (nullable = true)\n",
      " |-- sales_hour: integer (nullable = true)\n",
      " |-- year: integer (nullable = true)\n",
      "\n"
     ]
    }
   ],
   "source": [
    "# extract year from df_sales\n",
    "from pyspark.sql.functions import year\n",
    "df_sales = df_sales.withColumn(\"year\", year(\"sales_timestamp\"))\n",
    "df_sales.printSchema()"
   ]
  },
  {
   "cell_type": "code",
   "execution_count": 45,
   "metadata": {},
   "outputs": [
    {
     "data": {
      "text/html": [
       "<div>\n",
       "<style scoped>\n",
       "    .dataframe tbody tr th:only-of-type {\n",
       "        vertical-align: middle;\n",
       "    }\n",
       "\n",
       "    .dataframe tbody tr th {\n",
       "        vertical-align: top;\n",
       "    }\n",
       "\n",
       "    .dataframe thead th {\n",
       "        text-align: right;\n",
       "    }\n",
       "</style>\n",
       "<table border=\"1\" class=\"dataframe\">\n",
       "  <thead>\n",
       "    <tr style=\"text-align: right;\">\n",
       "      <th></th>\n",
       "      <th>year</th>\n",
       "      <th>state</th>\n",
       "      <th>sum(price)</th>\n",
       "    </tr>\n",
       "  </thead>\n",
       "  <tbody>\n",
       "    <tr>\n",
       "      <th>0</th>\n",
       "      <td>2020</td>\n",
       "      <td>NSW</td>\n",
       "      <td>3.600175e+08</td>\n",
       "    </tr>\n",
       "    <tr>\n",
       "      <th>1</th>\n",
       "      <td>2020</td>\n",
       "      <td>NT</td>\n",
       "      <td>8.322187e+06</td>\n",
       "    </tr>\n",
       "    <tr>\n",
       "      <th>2</th>\n",
       "      <td>2019</td>\n",
       "      <td>OT</td>\n",
       "      <td>2.305309e+05</td>\n",
       "    </tr>\n",
       "    <tr>\n",
       "      <th>3</th>\n",
       "      <td>2020</td>\n",
       "      <td>ACT</td>\n",
       "      <td>1.895251e+07</td>\n",
       "    </tr>\n",
       "    <tr>\n",
       "      <th>4</th>\n",
       "      <td>2019</td>\n",
       "      <td>SA</td>\n",
       "      <td>6.346054e+07</td>\n",
       "    </tr>\n",
       "    <tr>\n",
       "      <th>5</th>\n",
       "      <td>2020</td>\n",
       "      <td>WA</td>\n",
       "      <td>1.180696e+08</td>\n",
       "    </tr>\n",
       "    <tr>\n",
       "      <th>6</th>\n",
       "      <td>2019</td>\n",
       "      <td>TAS</td>\n",
       "      <td>1.972598e+07</td>\n",
       "    </tr>\n",
       "    <tr>\n",
       "      <th>7</th>\n",
       "      <td>2020</td>\n",
       "      <td>VIC</td>\n",
       "      <td>3.014352e+08</td>\n",
       "    </tr>\n",
       "    <tr>\n",
       "      <th>8</th>\n",
       "      <td>2019</td>\n",
       "      <td>QLD</td>\n",
       "      <td>1.761439e+08</td>\n",
       "    </tr>\n",
       "    <tr>\n",
       "      <th>9</th>\n",
       "      <td>2019</td>\n",
       "      <td>VIC</td>\n",
       "      <td>2.201520e+08</td>\n",
       "    </tr>\n",
       "    <tr>\n",
       "      <th>10</th>\n",
       "      <td>2019</td>\n",
       "      <td>WA</td>\n",
       "      <td>8.602363e+07</td>\n",
       "    </tr>\n",
       "    <tr>\n",
       "      <th>11</th>\n",
       "      <td>2020</td>\n",
       "      <td>TAS</td>\n",
       "      <td>2.773671e+07</td>\n",
       "    </tr>\n",
       "    <tr>\n",
       "      <th>12</th>\n",
       "      <td>2020</td>\n",
       "      <td>OT</td>\n",
       "      <td>2.373453e+05</td>\n",
       "    </tr>\n",
       "    <tr>\n",
       "      <th>13</th>\n",
       "      <td>2019</td>\n",
       "      <td>ACT</td>\n",
       "      <td>1.319582e+07</td>\n",
       "    </tr>\n",
       "    <tr>\n",
       "      <th>14</th>\n",
       "      <td>2020</td>\n",
       "      <td>QLD</td>\n",
       "      <td>2.418495e+08</td>\n",
       "    </tr>\n",
       "    <tr>\n",
       "      <th>15</th>\n",
       "      <td>2019</td>\n",
       "      <td>NSW</td>\n",
       "      <td>2.620635e+08</td>\n",
       "    </tr>\n",
       "    <tr>\n",
       "      <th>16</th>\n",
       "      <td>2020</td>\n",
       "      <td>SA</td>\n",
       "      <td>8.676582e+07</td>\n",
       "    </tr>\n",
       "    <tr>\n",
       "      <th>17</th>\n",
       "      <td>2019</td>\n",
       "      <td>NT</td>\n",
       "      <td>6.210735e+06</td>\n",
       "    </tr>\n",
       "  </tbody>\n",
       "</table>\n",
       "</div>"
      ],
      "text/plain": [
       "    year state    sum(price)\n",
       "0   2020   NSW  3.600175e+08\n",
       "1   2020    NT  8.322187e+06\n",
       "2   2019    OT  2.305309e+05\n",
       "3   2020   ACT  1.895251e+07\n",
       "4   2019    SA  6.346054e+07\n",
       "5   2020    WA  1.180696e+08\n",
       "6   2019   TAS  1.972598e+07\n",
       "7   2020   VIC  3.014352e+08\n",
       "8   2019   QLD  1.761439e+08\n",
       "9   2019   VIC  2.201520e+08\n",
       "10  2019    WA  8.602363e+07\n",
       "11  2020   TAS  2.773671e+07\n",
       "12  2020    OT  2.373453e+05\n",
       "13  2019   ACT  1.319582e+07\n",
       "14  2020   QLD  2.418495e+08\n",
       "15  2019   NSW  2.620635e+08\n",
       "16  2020    SA  8.676582e+07\n",
       "17  2019    NT  6.210735e+06"
      ]
     },
     "execution_count": 45,
     "metadata": {},
     "output_type": "execute_result"
    }
   ],
   "source": [
    "# joining df_users & df_sales on user_id\n",
    "df_joined = df_sales.join(df_users, on=\"user_id\")\n",
    "\n",
    "# group by year and state to find the total sales\n",
    "df_joined = df_joined.groupBy(\"year\", \"state\").sum(\"price\")\n",
    "\n",
    "# convert to pandas dataframe for plotting\n",
    "df_pd = df_joined.toPandas()\n",
    "df_pd"
   ]
  },
  {
   "cell_type": "code",
   "execution_count": 46,
   "metadata": {},
   "outputs": [
    {
     "data": {
      "text/plain": [
       "year            int32\n",
       "state          object\n",
       "sum(price)    float64\n",
       "dtype: object"
      ]
     },
     "execution_count": 46,
     "metadata": {},
     "output_type": "execute_result"
    }
   ],
   "source": [
    "df_pd.dtypes"
   ]
  },
  {
   "cell_type": "code",
   "execution_count": 47,
   "metadata": {},
   "outputs": [
    {
     "data": {
      "text/plain": [
       "year            int32\n",
       "state          object\n",
       "sum(price)    float64\n",
       "dtype: object"
      ]
     },
     "execution_count": 47,
     "metadata": {},
     "output_type": "execute_result"
    }
   ],
   "source": [
    "# changing data type of sum(price)\n",
    "df_pd[\"sum(price)\"] = df_pd[\"sum(price)\"].astype(float)\n",
    "df_pd.dtypes"
   ]
  },
  {
   "cell_type": "code",
   "execution_count": 48,
   "metadata": {},
   "outputs": [
    {
     "data": {
      "image/png": "[encoded data removed]",
      "text/plain": [
       "<Figure size 800x500 with 1 Axes>"
      ]
     },
     "metadata": {},
     "output_type": "display_data"
    }
   ],
   "source": [
    "# pivot year as index separated by state\n",
    "pivot_data = df_pd.pivot(index=\"year\", columns=\"state\", values=\"sum(price)\")\n",
    "\n",
    "pivot_data.plot(kind =\"bar\", figsize=(8,5))\n",
    "plt.xlabel(\"Year\")\n",
    "plt.xticks(rotation=360)\n",
    "plt.ylabel(\"Total Sales\")\n",
    "plt.title(\"Total Sales in AU States between 2019 & 2020\")\n",
    "\n",
    "plt.legend(title=\"State\")\n",
    "plt.tight_layout()\n",
    "plt.show()"
   ]
  },
  {
   "cell_type": "markdown",
   "metadata": {},
   "source": [
    "The result between 2019 and 2020 are similar: the 3 highest profit states are NSW, VIC and QLD. Sales in 2020 is higher than 2019 in general across all states. This is possibly due to COVID where people depends more on online shopping."
   ]
  },
  {
   "cell_type": "markdown",
   "metadata": {},
   "source": [
    "**2.2.6. Draw a scatter plot of customer age and their total spending with MOTH. To limit the number of datapoints, you may show the top 1000 “most valuable” customers only. You may also use log scale for the XY axis.**"
   ]
  },
  {
   "cell_type": "code",
   "execution_count": 49,
   "metadata": {
    "scrolled": true
   },
   "outputs": [
    {
     "name": "stdout",
     "output_type": "stream",
     "text": [
      "+---------+---------+--------+----------+--------------------+--------+-----+------+--------+\n",
      "|  user_id|firstname|lastname|       dob|             address|postcode|state|   sex|  suburb|\n",
      "+---------+---------+--------+----------+--------------------+--------+-----+------+--------+\n",
      "|514771925|   MERVYN| Unknown|  1-5-1963|  30A LUCINDA AVENUE|    2260|  NSW|  male|WAMBERAL|\n",
      "|531947692|   FALLON| Unknown|16-10-2002|82 CAMBERWARRA DRIVE|    6025|   WA|female| CRAIGIE|\n",
      "|560231306|    KALIN| Unknown| 19-8-2015|    74 SOLDIERS ROAD|    2281|  NSW|  male| PELICAN|\n",
      "|575248835|   PIETTA| Unknown| 19-1-1962|UNIT 1, 1 LARK AV...|    5023|   SA|female|  SEATON|\n",
      "|575243330|   SUMMAH| Unknown| 19-4-1973|   44 CLARENDON ROAD|    2048|  NSW|female|STANMORE|\n",
      "+---------+---------+--------+----------+--------------------+--------+-----+------+--------+\n",
      "only showing top 5 rows\n",
      "\n",
      "root\n",
      " |-- user_id: string (nullable = true)\n",
      " |-- firstname: string (nullable = true)\n",
      " |-- lastname: string (nullable = true)\n",
      " |-- dob: string (nullable = true)\n",
      " |-- address: string (nullable = true)\n",
      " |-- postcode: string (nullable = true)\n",
      " |-- state: string (nullable = true)\n",
      " |-- sex: string (nullable = true)\n",
      " |-- suburb: string (nullable = true)\n",
      "\n",
      "+--------+---------------+----------+------+---------+--------------------+----------+----+\n",
      "|      id|sales_timestamp|product_id| price|  user_id|        user_session|sales_hour|year|\n",
      "+--------+---------------+----------+------+---------+--------------------+----------+----+\n",
      "|67502142|     2019-10-01|   1004856|130.76|543272936|8187d148-3c41-46d...|        10|2019|\n",
      "|67502840|     2019-10-01|   1004932|463.31|555083442|83d12d1a-5452-4fa...|        10|2019|\n",
      "|67503791|     2019-10-01|   4804055|189.91|517129864|df8afa49-66e0-4e5...|        12|2019|\n",
      "|67504053|     2019-10-01|   1004659|787.18|555168263|d068d08f-aaf3-494...|        12|2019|\n",
      "|67504985|     2019-10-01|   1004767|254.82|512730342|4a34d086-4940-45e...|        12|2019|\n",
      "+--------+---------------+----------+------+---------+--------------------+----------+----+\n",
      "only showing top 5 rows\n",
      "\n",
      "root\n",
      " |-- id: string (nullable = true)\n",
      " |-- sales_timestamp: date (nullable = true)\n",
      " |-- product_id: string (nullable = true)\n",
      " |-- price: double (nullable = true)\n",
      " |-- user_id: string (nullable = true)\n",
      " |-- user_session: string (nullable = true)\n",
      " |-- sales_hour: integer (nullable = true)\n",
      " |-- year: integer (nullable = true)\n",
      "\n"
     ]
    }
   ],
   "source": [
    "df_users.show(5)\n",
    "df_users.printSchema()\n",
    "df_sales.show(5)\n",
    "df_sales.printSchema()"
   ]
  },
  {
   "cell_type": "code",
   "execution_count": 50,
   "metadata": {},
   "outputs": [
    {
     "name": "stdout",
     "output_type": "stream",
     "text": [
      "root\n",
      " |-- user_id: string (nullable = true)\n",
      " |-- firstname: string (nullable = true)\n",
      " |-- lastname: string (nullable = true)\n",
      " |-- dob: timestamp (nullable = true)\n",
      " |-- address: string (nullable = true)\n",
      " |-- postcode: string (nullable = true)\n",
      " |-- state: string (nullable = true)\n",
      " |-- sex: string (nullable = true)\n",
      " |-- suburb: string (nullable = true)\n",
      "\n",
      "root\n",
      " |-- id: string (nullable = true)\n",
      " |-- sales_timestamp: timestamp (nullable = true)\n",
      " |-- product_id: string (nullable = true)\n",
      " |-- price: double (nullable = true)\n",
      " |-- user_id: string (nullable = true)\n",
      " |-- user_session: string (nullable = true)\n",
      " |-- sales_hour: integer (nullable = true)\n",
      " |-- year: integer (nullable = true)\n",
      "\n",
      "+---------+---------+--------+-------------------+--------------------+--------+-----+------+--------+\n",
      "|  user_id|firstname|lastname|                dob|             address|postcode|state|   sex|  suburb|\n",
      "+---------+---------+--------+-------------------+--------------------+--------+-----+------+--------+\n",
      "|514771925|   MERVYN| Unknown|1963-05-01 00:00:00|  30A LUCINDA AVENUE|    2260|  NSW|  male|WAMBERAL|\n",
      "|531947692|   FALLON| Unknown|2002-10-16 00:00:00|82 CAMBERWARRA DRIVE|    6025|   WA|female| CRAIGIE|\n",
      "|560231306|    KALIN| Unknown|2015-08-19 00:00:00|    74 SOLDIERS ROAD|    2281|  NSW|  male| PELICAN|\n",
      "|575248835|   PIETTA| Unknown|1962-01-19 00:00:00|UNIT 1, 1 LARK AV...|    5023|   SA|female|  SEATON|\n",
      "|575243330|   SUMMAH| Unknown|1973-04-19 00:00:00|   44 CLARENDON ROAD|    2048|  NSW|female|STANMORE|\n",
      "+---------+---------+--------+-------------------+--------------------+--------+-----+------+--------+\n",
      "only showing top 5 rows\n",
      "\n",
      "+--------+-------------------+----------+------+---------+--------------------+----------+----+\n",
      "|      id|    sales_timestamp|product_id| price|  user_id|        user_session|sales_hour|year|\n",
      "+--------+-------------------+----------+------+---------+--------------------+----------+----+\n",
      "|67502142|2019-10-01 00:00:00|   1004856|130.76|543272936|8187d148-3c41-46d...|        10|2019|\n",
      "|67502840|2019-10-01 00:00:00|   1004932|463.31|555083442|83d12d1a-5452-4fa...|        10|2019|\n",
      "|67503791|2019-10-01 00:00:00|   4804055|189.91|517129864|df8afa49-66e0-4e5...|        12|2019|\n",
      "|67504053|2019-10-01 00:00:00|   1004659|787.18|555168263|d068d08f-aaf3-494...|        12|2019|\n",
      "|67504985|2019-10-01 00:00:00|   1004767|254.82|512730342|4a34d086-4940-45e...|        12|2019|\n",
      "+--------+-------------------+----------+------+---------+--------------------+----------+----+\n",
      "only showing top 5 rows\n",
      "\n"
     ]
    }
   ],
   "source": [
    "from pyspark.sql.functions import to_timestamp\n",
    "\n",
    "# Change to timestamp to calculate age\n",
    "df_users = df_users.withColumn(\"dob\", to_timestamp(\"dob\", \"dd-MM-yyyy\"))\n",
    "df_sales = df_sales.withColumn(\"sales_timestamp\", to_timestamp(\"sales_timestamp\", \"yyyy-MM-dd HH:mm:ss.SSSSSS XXX\"))\n",
    "\n",
    "df_users.printSchema()\n",
    "df_sales.printSchema()\n",
    "df_users.show(5)\n",
    "df_sales.show(5)"
   ]
  },
  {
   "cell_type": "code",
   "execution_count": 51,
   "metadata": {},
   "outputs": [],
   "source": [
    "# find age: sales_timestamp - dob\n",
    "from pyspark.sql.functions import datediff, round \n",
    "from pyspark.sql.types import IntegerType"
   ]
  },
  {
   "cell_type": "code",
   "execution_count": 52,
   "metadata": {},
   "outputs": [
    {
     "name": "stdout",
     "output_type": "stream",
     "text": [
      "+---------+---------+-------------------+----------+------+--------------------+----------+----+---------+--------+-------------------+----------------+--------+-----+------+-------+-----------------+\n",
      "|  user_id|       id|    sales_timestamp|product_id| price|        user_session|sales_hour|year|firstname|lastname|                dob|         address|postcode|state|   sex| suburb|     age_at_sales|\n",
      "+---------+---------+-------------------+----------+------+--------------------+----------+----+---------+--------+-------------------+----------------+--------+-----+------+-------+-----------------+\n",
      "|128029678|356442081|2020-04-08 00:00:00|  12703931|194.08|6149bcd2-37df-40e...|        16|2020|    SERGE| Unknown|1960-10-23 00:00:00|  13 TRADE PLACE|    3133|  VIC|  male|VERMONT| 59.4986301369863|\n",
      "|128029678|356456957|2020-04-08 00:00:00|  12703931|194.08|6149bcd2-37df-40e...|        17|2020|    SERGE| Unknown|1960-10-23 00:00:00|  13 TRADE PLACE|    3133|  VIC|  male|VERMONT| 59.4986301369863|\n",
      "|128029678|321329055|2020-03-21 00:00:00|  12703931|181.73|a5b8a7bc-1641-4f4...|         5|2020|    SERGE| Unknown|1960-10-23 00:00:00|  13 TRADE PLACE|    3133|  VIC|  male|VERMONT|59.44931506849315|\n",
      "|128968633|271727382|2020-03-07 00:00:00| 100021427|355.22|bb64acbd-2fdb-4e6...|        17|2020|    TANIE| Unknown|1996-06-04 00:00:00|13 STEELE STREET|    2602|  ACT|female|HACKETT|23.77260273972603|\n",
      "|128968633|177127532|2020-01-01 00:00:00|  15800127|157.02|c9dc1663-e9f1-4cc...|         2|2020|    TANIE| Unknown|1996-06-04 00:00:00|13 STEELE STREET|    2602|  ACT|female|HACKETT|23.59178082191781|\n",
      "+---------+---------+-------------------+----------+------+--------------------+----------+----+---------+--------+-------------------+----------------+--------+-----+------+-------+-----------------+\n",
      "only showing top 5 rows\n",
      "\n"
     ]
    }
   ],
   "source": [
    "df_joined = df_sales.join(df_users, on=\"user_id\")\n",
    "df_joined = df_joined.withColumn(\"age_at_sales\", \n",
    "                                 datediff(df_joined.sales_timestamp, df_joined.dob) / 365)\n",
    "df_ageint = df_joined.withColumn(\"age_at_sales\",round(col(\"age_at_sales\")).cast(DoubleType()))\n",
    "\n",
    "\n",
    "df_joined.show(5)"
   ]
  },
  {
   "cell_type": "code",
   "execution_count": 53,
   "metadata": {},
   "outputs": [
    {
     "name": "stdout",
     "output_type": "stream",
     "text": [
      "+---------+--------------+\n",
      "|  user_id|total_spending|\n",
      "+---------+--------------+\n",
      "|128029678|        569.89|\n",
      "|128968633|        714.01|\n",
      "|136662675|        102.65|\n",
      "|138340325|          93.5|\n",
      "|227842721|         91.38|\n",
      "+---------+--------------+\n",
      "only showing top 5 rows\n",
      "\n"
     ]
    }
   ],
   "source": [
    "# aggregate price by user_id\n",
    "df_ttspending = df_ageint.groupBy(\"user_id\").agg(F.sum(\"price\").alias(\"total_spending\"))\n",
    "df_ttspending.show(5)"
   ]
  },
  {
   "cell_type": "code",
   "execution_count": 54,
   "metadata": {},
   "outputs": [],
   "source": [
    "# joinining total_spending\n",
    "df_age_spending = df_ageint.select(\"user_id\", \"age_at_sales\").distinct()\n",
    "df_combined = df_age_spending.join(df_ttspending, on=\"user_id\", how='inner')\n",
    "\n",
    "# order by total spending and limit to only 1000 datapoints\n",
    "top1000_customers = df_combined.orderBy(F.col(\"total_spending\").desc()).limit(1000)\n"
   ]
  },
  {
   "cell_type": "code",
   "execution_count": 55,
   "metadata": {},
   "outputs": [
    {
     "name": "stdout",
     "output_type": "stream",
     "text": [
      "root\n",
      " |-- user_id: string (nullable = true)\n",
      " |-- age_at_sales: double (nullable = true)\n",
      " |-- total_spending: double (nullable = true)\n",
      "\n",
      "+---------+------------+------------------+\n",
      "|  user_id|age_at_sales|    total_spending|\n",
      "+---------+------------+------------------+\n",
      "|553431815|        32.0| 788338.5999999976|\n",
      "|553431815|        33.0| 788338.5999999976|\n",
      "|549109608|        60.0| 727569.0300000015|\n",
      "|569333570|        63.0| 676647.3500000004|\n",
      "|569333570|        64.0| 676647.3500000004|\n",
      "|513230794|        44.0| 632006.1000000007|\n",
      "|595104624|        53.0| 601099.7699999993|\n",
      "|595104624|        54.0| 601099.7699999993|\n",
      "|513320236|        59.0| 559629.7900000003|\n",
      "|513320236|        60.0| 559629.7900000003|\n",
      "|610871788|        37.0| 541687.4000000003|\n",
      "|610871788|        38.0| 541687.4000000003|\n",
      "|568782581|        34.0| 540268.7199999993|\n",
      "|568782581|        35.0| 540268.7199999993|\n",
      "|538216048|        42.0|507487.51999999944|\n",
      "+---------+------------+------------------+\n",
      "only showing top 15 rows\n",
      "\n"
     ]
    }
   ],
   "source": [
    "top1000_customers.printSchema()\n",
    "top1000_customers.show(15)"
   ]
  },
  {
   "cell_type": "code",
   "execution_count": 56,
   "metadata": {},
   "outputs": [
    {
     "data": {
      "text/html": [
       "<div>\n",
       "<style scoped>\n",
       "    .dataframe tbody tr th:only-of-type {\n",
       "        vertical-align: middle;\n",
       "    }\n",
       "\n",
       "    .dataframe tbody tr th {\n",
       "        vertical-align: top;\n",
       "    }\n",
       "\n",
       "    .dataframe thead th {\n",
       "        text-align: right;\n",
       "    }\n",
       "</style>\n",
       "<table border=\"1\" class=\"dataframe\">\n",
       "  <thead>\n",
       "    <tr style=\"text-align: right;\">\n",
       "      <th></th>\n",
       "      <th>user_id</th>\n",
       "      <th>age_at_sales</th>\n",
       "      <th>total_spending</th>\n",
       "    </tr>\n",
       "  </thead>\n",
       "  <tbody>\n",
       "    <tr>\n",
       "      <th>0</th>\n",
       "      <td>553431815</td>\n",
       "      <td>32.0</td>\n",
       "      <td>788338.60</td>\n",
       "    </tr>\n",
       "    <tr>\n",
       "      <th>1</th>\n",
       "      <td>553431815</td>\n",
       "      <td>33.0</td>\n",
       "      <td>788338.60</td>\n",
       "    </tr>\n",
       "    <tr>\n",
       "      <th>2</th>\n",
       "      <td>549109608</td>\n",
       "      <td>60.0</td>\n",
       "      <td>727569.03</td>\n",
       "    </tr>\n",
       "    <tr>\n",
       "      <th>3</th>\n",
       "      <td>569333570</td>\n",
       "      <td>63.0</td>\n",
       "      <td>676647.35</td>\n",
       "    </tr>\n",
       "    <tr>\n",
       "      <th>4</th>\n",
       "      <td>569333570</td>\n",
       "      <td>64.0</td>\n",
       "      <td>676647.35</td>\n",
       "    </tr>\n",
       "    <tr>\n",
       "      <th>...</th>\n",
       "      <td>...</td>\n",
       "      <td>...</td>\n",
       "      <td>...</td>\n",
       "    </tr>\n",
       "    <tr>\n",
       "      <th>995</th>\n",
       "      <td>525519399</td>\n",
       "      <td>8.0</td>\n",
       "      <td>63966.82</td>\n",
       "    </tr>\n",
       "    <tr>\n",
       "      <th>996</th>\n",
       "      <td>530433570</td>\n",
       "      <td>73.0</td>\n",
       "      <td>63945.73</td>\n",
       "    </tr>\n",
       "    <tr>\n",
       "      <th>997</th>\n",
       "      <td>570976924</td>\n",
       "      <td>38.0</td>\n",
       "      <td>63935.49</td>\n",
       "    </tr>\n",
       "    <tr>\n",
       "      <th>998</th>\n",
       "      <td>512595488</td>\n",
       "      <td>19.0</td>\n",
       "      <td>63912.12</td>\n",
       "    </tr>\n",
       "    <tr>\n",
       "      <th>999</th>\n",
       "      <td>512595488</td>\n",
       "      <td>20.0</td>\n",
       "      <td>63912.12</td>\n",
       "    </tr>\n",
       "  </tbody>\n",
       "</table>\n",
       "<p>1000 rows × 3 columns</p>\n",
       "</div>"
      ],
      "text/plain": [
       "       user_id  age_at_sales  total_spending\n",
       "0    553431815          32.0       788338.60\n",
       "1    553431815          33.0       788338.60\n",
       "2    549109608          60.0       727569.03\n",
       "3    569333570          63.0       676647.35\n",
       "4    569333570          64.0       676647.35\n",
       "..         ...           ...             ...\n",
       "995  525519399           8.0        63966.82\n",
       "996  530433570          73.0        63945.73\n",
       "997  570976924          38.0        63935.49\n",
       "998  512595488          19.0        63912.12\n",
       "999  512595488          20.0        63912.12\n",
       "\n",
       "[1000 rows x 3 columns]"
      ]
     },
     "execution_count": 56,
     "metadata": {},
     "output_type": "execute_result"
    }
   ],
   "source": [
    "df_pandas = top1000_customers.toPandas()\n",
    "df_pandas"
   ]
  },
  {
   "cell_type": "code",
   "execution_count": 57,
   "metadata": {},
   "outputs": [
    {
     "data": {
      "image/png": "[encoded data removed]",
      "text/plain": [
       "<Figure size 1000x600 with 2 Axes>"
      ]
     },
     "metadata": {},
     "output_type": "display_data"
    }
   ],
   "source": [
    "import matplotlib.pyplot as plt\n",
    "_, axs = plt.subplots(1, 2,figsize=(10,6))\n",
    "\n",
    "# original scale\n",
    "axs[0].scatter(df_pandas[\"age_at_sales\"], df_pandas[\"total_spending\"],alpha=0.6)\n",
    "# axs[0].set_yscale(\"log\")\n",
    "axs[0].set_xlabel('Age at Time of Sales')\n",
    "axs[0].set_ylabel('Total Spending')\n",
    "axs[0].set_title('Age vs Total Spending')\n",
    "\n",
    "# log scale\n",
    "axs[1].scatter(df_pandas[\"age_at_sales\"], df_pandas[\"total_spending\"],alpha=0.6)\n",
    "axs[1].set_xscale(\"log\")\n",
    "axs[1].set_yscale(\"log\")\n",
    "axs[1].set_xlabel('Age at Time of Sales (Log Scale)')\n",
    "axs[1].set_ylabel('Total Spending (Log Scale)')\n",
    "axs[1].set_title('log(Age) vs log(Total Spending)')\n",
    "plt.show()\n"
   ]
  },
  {
   "cell_type": "markdown",
   "metadata": {},
   "source": [
    "The left plot shows the total spending vs age at the time of sales in original scales. No obvious pattern can be found as most datapoints are scattered below 200000 so the relationship is hidden by the large amount of total spending.  \n",
    "\n",
    "Therefore age and total spending are transformed in the right plot. It is observed that large amount of spendings are usually made by larger age customers and the frequency of transaction is much higher compared to younger cusotmers as the points are more intense on the higher age's end. "
   ]
  },
  {
   "cell_type": "markdown",
   "metadata": {},
   "source": [
    "### Part 3 RDDs vs DataFrame vs Spark SQL (15%) <a class=\"anchor\" name=\"part-3\"></a>\n",
    "Implement the following queries using RDDs, DataFrames in SparkSQL separately. Log the  time taken for each query in each approach using the “%%time” built-in magic command in Jupyter Notebook and discuss the performance difference between these 3 approaches. \n"
   ]
  },
  {
   "cell_type": "code",
   "execution_count": 58,
   "metadata": {},
   "outputs": [],
   "source": [
    "sc.stop()"
   ]
  },
  {
   "cell_type": "code",
   "execution_count": 59,
   "metadata": {},
   "outputs": [],
   "source": [
    "# Import SparkConf class into program\n",
    "from pyspark import SparkConf\n",
    "\n",
    "# local[*]: run Spark in local mode with as many working processors as logical cores on your machine\n",
    "# If we want Spark to run locally with 'k' worker threads, we can specify as \"local[k]\".\n",
    "master = \"local[*]\"\n",
    "# The `appName` field is a name to be shown on the Spark cluster UI page\n",
    "app_name = \"Asg 1 Part 3\"\n",
    "# Setup configuration parameters for Spark\n",
    "spark_conf = SparkConf().setMaster(master).setAppName(app_name)\n",
    "\n",
    "# Import SparkContext and SparkSession classes\n",
    "from pyspark import SparkContext # Spark\n",
    "from pyspark.sql import SparkSession # Spark SQL\n",
    "\n",
    "# # Method 1: Using SparkSession\n",
    "spark = SparkSession.builder.config(conf=spark_conf).getOrCreate()\n",
    "spark.conf.set(\"spark.sql.session.timeZone\", \"Australia/Melbourne\")\n",
    "sc = spark.sparkContext\n",
    "sc.setLogLevel('ERROR')"
   ]
  },
  {
   "cell_type": "markdown",
   "metadata": {},
   "source": [
    "\n"
   ]
  },
  {
   "cell_type": "markdown",
   "metadata": {},
   "source": [
    "#### Query: Find top 100 most popular products (by total sales) among user age group 20-40, group by brand, and show total sales revenue of each brand."
   ]
  },
  {
   "cell_type": "markdown",
   "metadata": {},
   "source": [
    "#### 3.1. RDD Implementation"
   ]
  },
  {
   "cell_type": "code",
   "execution_count": 60,
   "metadata": {},
   "outputs": [
    {
     "name": "stdout",
     "output_type": "stream",
     "text": [
      "Brand\t\tProduct ID\tTotal Sales\n",
      "------------------------------------------\n",
      "apple\t\t1005115\t\t81002782.36\n",
      "apple\t\t1005105\t\t48142740.12\n",
      "apple\t\t1005135\t\t27499751.60\n",
      "apple\t\t1002544\t\t27123527.58\n",
      "apple\t\t1004249\t\t25860765.96\n",
      "samsung\t\t1004767\t\t24540275.64\n",
      "apple\t\t1005116\t\t22800138.50\n",
      "apple\t\t1005132\t\t12631079.82\n",
      "apple\t\t1004226\t\t12379464.10\n",
      "samsung\t\t1005100\t\t12300334.54\n",
      "CPU times: user 111 ms, sys: 27.8 ms, total: 138 ms\n",
      "Wall time: 2min 9s\n"
     ]
    }
   ],
   "source": [
    "%%time\n",
    "from datetime import datetime\n",
    "def cal_age(date_str, dob_str):\n",
    "    if dob_str == 'Unknown':  # found unknown in dob_str that stop the conversion\n",
    "        return None  \n",
    "    \n",
    "    date_str_parts = date_str.split()\n",
    "    sale_date = datetime.strptime(date_str_parts[0] + ' ' + date_str_parts[1], \"%Y-%m-%d %H:%M:%S.%f\")\n",
    "    \n",
    "    dob = datetime.strptime(dob_str, \"%d-%m-%Y\")\n",
    "    age_at_sales = (sale_date - dob).days / 365.0\n",
    "    return age_at_sales\n",
    "\n",
    "users_rdd = sc.textFile(\"users.csv\")\n",
    "product_rdd = sc.textFile(\"sales/product.csv\")\n",
    "sales_rdd = sc.textFile(\"sales/sales.csv\")\n",
    "\n",
    "# 0: user_id, 3: dob\n",
    "users_header = users_rdd.first()\n",
    "users_rdd = users_rdd.filter(lambda x: x != users_header).\\\n",
    "                    map(lambda x: x.split(',')).\\\n",
    "                    map(lambda x: (x[0], (x[3])))\n",
    "\n",
    "\n",
    "prod_header = product_rdd.first()\n",
    "product_rdd = product_rdd.filter(lambda x: x != prod_header).\\\n",
    "                    filter(lambda x: x.split(',')[2] != '') .\\\n",
    "                    map(lambda x: (x.split(',')[0], (x.split(',')[2])))\n",
    "\n",
    "# 1:timestamp, 2: product_id, 3: price, 4:user_id\n",
    "sales_header = sales_rdd.first()\n",
    "sales_rdd = sales_rdd.filter(lambda x: x != sales_header).\\\n",
    "                    map(lambda x: x.split(',')).\\\n",
    "                    map(lambda x: (x[4], (x[1:4])))\n",
    "\n",
    "# after join with. user_rdd: \n",
    "# ('524294157',\n",
    "#     (['2020-03-27 02:10:08.000000 +00:00', '1005223', '209.53'], '21-5-2013'))\n",
    "\n",
    "# after join with product_rdd:\n",
    "#('1802038',\n",
    "#     (('2020-03-04 18:24:14.000000 +00:00', '180.88', '20-5-1995'), 'tcl'))\n",
    "join_rdd = sales_rdd.join(users_rdd).\\\n",
    "                    map(lambda x: (x[1][0][1], (x[1][0][0], x[1][0][2], x[1][1]))).\\\n",
    "                    join(product_rdd)\n",
    "\n",
    "\n",
    "# age_at_sales, product_id, price, brand\n",
    "# filter out none in cal_age (unknown value) & filter age within 20 & 40\n",
    "age_rdd = join_rdd.map(lambda x: (cal_age(x[1][0][0], x[1][0][2]), x[0],x[1][0][1], x[1][1])).\\\n",
    "                    filter(lambda x: x[0] is not None and 20 <= x[0] <= 40)\n",
    "\n",
    "# group brand, product_id as a key to be reduced\n",
    "# sort in descending order\n",
    "grouped_rdd = age_rdd.map(lambda x: ((x[3], x[1]), float(x[2]))).\\\n",
    "                    reduceByKey(lambda a, b: a + b).\\\n",
    "                    takeOrdered(100, lambda x: -1*int(x[1]))\n",
    "\n",
    "\n",
    "# print out result in a more readable way\n",
    "print(\"Brand\\t\\tProduct ID\\tTotal Sales\")\n",
    "print(\"------------------------------------------\")\n",
    "for (brand, product_id), total_sales in grouped_rdd[:10]:\n",
    "    print(f\"{brand}\\t\\t{product_id}\\t\\t{total_sales:.2f}\")\n",
    "\n",
    "      "
   ]
  },
  {
   "cell_type": "markdown",
   "metadata": {},
   "source": [
    "#### 3.2. DataFrame Implementation"
   ]
  },
  {
   "cell_type": "markdown",
   "metadata": {},
   "source": [
    "Step 1: select col of df_sales to be joined  \n",
    "Step 2: join with users selected col  \n",
    "Step 3: join with product selected col  \n",
    "Step 4: change dtype of dob  \n",
    "Step 5: change dtype of sales_timestamp  \n",
    "Step 6: age_at_sales = sales_timestamp - dob  \n",
    "Step 7: round age into integer  \n",
    "Step 8: filter age between 20 & 40  \n",
    "Step 9: group by brand and product & agg price to find total sales  \n",
    "Step 10: order by total_sales\n",
    "\n",
    "\n"
   ]
  },
  {
   "cell_type": "code",
   "execution_count": 64,
   "metadata": {},
   "outputs": [
    {
     "name": "stdout",
     "output_type": "stream",
     "text": [
      "+-------+----------+-----------+\n",
      "|brand  |product_id|total_sales|\n",
      "+-------+----------+-----------+\n",
      "|apple  |1005115   |8.3076908E7|\n",
      "|apple  |1005105   |4.9643991E7|\n",
      "|apple  |1005135   |2.8410255E7|\n",
      "|apple  |1002544   |2.7915942E7|\n",
      "|apple  |1004249   |2.6542799E7|\n",
      "|samsung|1004767   |2.5047026E7|\n",
      "|apple  |1005116   |2.3494541E7|\n",
      "|apple  |1005132   |1.2946337E7|\n",
      "|samsung|1005100   |1.2590492E7|\n",
      "|apple  |1004226   |1.2437187E7|\n",
      "|apple  |1005124   |1.2398787E7|\n",
      "|apple  |4804056   |1.1602379E7|\n",
      "|apple  |1002524   |1.1292531E7|\n",
      "|samsung|1004856   |1.085556E7 |\n",
      "|apple  |1005118   |1.0826116E7|\n",
      "|samsung|1004870   |9388996.0  |\n",
      "|apple  |1005106   |9365056.0  |\n",
      "|samsung|1005212   |9361223.0  |\n",
      "|apple  |1005129   |9292801.0  |\n",
      "|apple  |1004227   |9102049.0  |\n",
      "+-------+----------+-----------+\n",
      "only showing top 20 rows\n",
      "\n",
      "root\n",
      " |-- brand: string (nullable = true)\n",
      " |-- product_id: string (nullable = true)\n",
      " |-- total_sales: double (nullable = true)\n",
      "\n",
      "CPU times: user 36.2 ms, sys: 10.7 ms, total: 46.9 ms\n",
      "Wall time: 33 s\n"
     ]
    }
   ],
   "source": [
    "%%time\n",
    "# import data\n",
    "df_users = spark.read.csv(\"users.csv\",header=True)\n",
    "df_product = spark.read.csv(\"sales/product.csv\",header=True)\n",
    "df_sales = spark.read.csv(\"sales/sales.csv\",header=True).dropDuplicates([\"sales_timestamp\",\"product_id\",\"price\",\"user_id\"])\n",
    "\n",
    "top100_df = df_sales.select('sales_timestamp','price','user_id','product_id').\\\n",
    "                    join(df_users.select(\"user_id\",'dob'), on=\"user_id\", how ='inner').\\\n",
    "                    join(df_product.select('product_id','brand'), on='product_id', how='inner').\\\n",
    "                    withColumn(\"dob\", to_timestamp(\"dob\", \"d-MM-yyyy\")).\\\n",
    "                    withColumn(\"sales_timestamp\", to_timestamp(\"sales_timestamp\", \"yyyy-MM-dd HH:mm:ss.SSSSSS XXX\")).\\\n",
    "                    withColumn(\"age_at_sales\",datediff('sales_timestamp', 'dob') / 365).\\\n",
    "                    withColumn(\"age_at_sales\",round(col(\"age_at_sales\")).cast(IntegerType())) .\\\n",
    "                    filter(col(\"age_at_sales\").between(20, 40)).\\\n",
    "                    groupBy(\"brand\",'product_id').agg(round(F.sum(\"price\")).alias(\"total_sales\")).\\\n",
    "                    orderBy(F.col(\"total_sales\").desc()).limit(100)\n",
    "\n",
    "top100_df.show(truncate=False)\n",
    "top100_df.printSchema()"
   ]
  },
  {
   "cell_type": "markdown",
   "metadata": {},
   "source": [
    "#### 3.3. Spark SQL Implementation"
   ]
  },
  {
   "cell_type": "code",
   "execution_count": 62,
   "metadata": {},
   "outputs": [],
   "source": [
    "# issue raise w/out setting up this: \n",
    "# Fail to parse '2020-03-27 02:03:48.000000 +00:00' in the new parser. \n",
    "# You can set \"spark.sql.legacy.timeParserPolicy\" to \"LEGACY\" to restore \n",
    "# the behavior before Spark 3.0, or set to \"CORRECTED\" and treat it as an invalid datetime string.\n",
    "spark.conf.set(\"spark.sql.legacy.timeParserPolicy\", \"LEGACY\")"
   ]
  },
  {
   "cell_type": "code",
   "execution_count": 63,
   "metadata": {},
   "outputs": [
    {
     "name": "stdout",
     "output_type": "stream",
     "text": [
      "+-------+----------+-----------+\n",
      "|  brand|product_id|total_sales|\n",
      "+-------+----------+-----------+\n",
      "|  apple|   1005115|8.3076908E7|\n",
      "|  apple|   1005105|4.9643991E7|\n",
      "|  apple|   1005135|2.8410255E7|\n",
      "|  apple|   1002544|2.7915942E7|\n",
      "|  apple|   1004249|2.6542799E7|\n",
      "|samsung|   1004767|2.5047026E7|\n",
      "|  apple|   1005116|2.3494541E7|\n",
      "|  apple|   1005132|1.2946337E7|\n",
      "|samsung|   1005100|1.2590492E7|\n",
      "|  apple|   1004226|1.2437187E7|\n",
      "+-------+----------+-----------+\n",
      "only showing top 10 rows\n",
      "\n",
      "CPU times: user 21.3 ms, sys: 4.6 ms, total: 25.9 ms\n",
      "Wall time: 32.3 s\n"
     ]
    }
   ],
   "source": [
    "%%time\n",
    "df_users = spark.read.csv(\"users.csv\",header=True)\n",
    "df_product = spark.read.csv(\"sales/product.csv\",header=True)\n",
    "df_sales = spark.read.csv(\"sales/sales.csv\",header=True).dropDuplicates([\"sales_timestamp\",\"product_id\",\"price\",\"user_id\"])\n",
    "\n",
    "# register df\n",
    "df_sales.createOrReplaceTempView(\"sales\")\n",
    "df_users.createOrReplaceTempView(\"users\")\n",
    "df_product.createOrReplaceTempView(\"products\")\n",
    "\n",
    "\n",
    "# join on ids \n",
    "# find age_at_sales: timestamp - dob timestamp\n",
    "# filter between 20 & 40\n",
    "# group by brand & product_id\n",
    "# sort by total_sale in desc order \n",
    "# limit top 100\n",
    "query = \"\"\"\n",
    "SELECT p.brand, \n",
    "        s.product_id,\n",
    "        ROUND(SUM(s.price)) AS total_sales\n",
    "FROM sales s\n",
    "JOIN users u ON s.user_id = u.user_id\n",
    "JOIN products p ON s.product_id = p.product_id\n",
    "WHERE ROUND(DATEDIFF(\n",
    "    TO_TIMESTAMP(s.sales_timestamp, 'yyyy-MM-dd HH:mm:ss.SSSSSS XXX'), \n",
    "    TO_TIMESTAMP(u.dob, 'dd-MM-yyyy')\n",
    "    ) / 365) BETWEEN 20 AND 40\n",
    "GROUP BY p.brand, s.product_id\n",
    "ORDER BY total_sales DESC\n",
    "LIMIT 100\n",
    "\"\"\"\n",
    "top100_sql = spark.sql(query)\n",
    "\n",
    "# Show the result\n",
    "top100_sql.show(10)\n"
   ]
  },
  {
   "cell_type": "markdown",
   "metadata": {},
   "source": [
    "### 3.4 Observe the query execution time among RDD, DataFrame, SparkSQL, which is the fastest and why? (Maximum 500 words.)"
   ]
  },
  {
   "cell_type": "markdown",
   "metadata": {},
   "source": [
    "<ins>**RDD:**</ins>  \n",
    "Result: CPU times: user 111 ms, sys: 27.8 ms, total: 138 ms\n",
    "Wall time: 2min 9s  \n",
    "\n",
    "<ins>**DataFrame:**</ins>  \n",
    "Result: CPU times: user 36.2 ms, sys: 10.7 ms, total: 46.9 ms\n",
    "Wall time: 33 s\n",
    "\n",
    "<ins>**SparkSQL:**</ins>  \n",
    "Result: CPU times: user 21.3 ms, sys: 4.6 ms, total: 25.9 ms\n",
    "Wall time: 32.3 s  \n"
   ]
  },
  {
   "cell_type": "markdown",
   "metadata": {},
   "source": [
    "SparkSQL is the fastest and RDD is the slowest.  \n",
    "\n",
    "The difference is because of the optimization engine in DataFrame, specifically due to Projecty Tunsten which improves memory and CPU efficiency.  \n",
    "\n",
    "RDD offers only low-level transformation and control on data. There is no inbuilt optimization engine in RDD. The overhead of writing into disk is expansive because it use JAVA serialization. Java objects have a large inherent memory overhead and such serialization  requires communication between nodes. Therefore it takes longer time to process and more memory is taken up. RDD API is also slower in aggregating and grouping data.  \n",
    "\n",
    "On the other hand, both DataFrame and SparkSQL are optimised using catalyze optimizer. Logical plan is analyzed to resolve references and the plan is locally optimsed before generating physical plans. Plan with the lowest cost model is chosen and hence optimised.  \n",
    "\n",
    "DataFrame offers custom memory management (Project Tungsten), which serialises data into off-heap memory in binary format so it does not need to be encoded like RDD.  This allows Spark learn more about information than the JVM garbaged collector about the life cycle of memory block and hence allow a more efficient use of memory. Another\n",
    "reason is the cache-aware computation in Spark. The improvement shortened the wait time of fetching data from memory and this is done by improving the operations like aggregation, sorting and join. CPU time is also optimized with code generation which helps increaseing shuffle network throughput and hence the conversion of data.  \n",
    "\n",
    "\n",
    "Generated result aligns with the explanation above, where RDD method has the longest CPU time, system time as well as wall time. This means RDD spend the longest in executing the code and handling IO operation or managing memory. Such CPU time includes time of fetching data and sending data between nodes, causing long wait time. DataFrame and SparkSQL have much shorter running time due to Catalyze Optimization inbuilt to the API."
   ]
  },
  {
   "cell_type": "markdown",
   "metadata": {},
   "source": [
    "#### Summary\n",
    "\n",
    "The time might differ when running on different machines. Overall, the DataFrame and SQL queries run faster compared with RDD.\n"
   ]
  },
  {
   "cell_type": "markdown",
   "metadata": {},
   "source": [
    "### Some ideas on the comparison\n",
    "\n",
    "Armbrust, M., Huai, Y., Liang, C., Xin, R., & Zaharia, M. (2015). Deep Dive into Spark SQL’s Catalyst Optimizer. Retrieved September 30, 2017, from https://databricks.com/blog/2015/04/13/deep-dive-into-spark-sqls-catalyst-optimizer.html\n",
    "\n",
    "Damji, J. (2016). A Tale of Three Apache Spark APIs: RDDs, DataFrames, and Datasets. Retrieved September 28, 2017, from https://databricks.com/blog/2016/07/14/a-tale-of-three-apache-spark-apis-rdds-dataframes-and-datasets.html\n",
    "\n",
    "Data Flair (2017a). Apache Spark RDD vs DataFrame vs DataSet. Retrieved September 28, 2017, from http://data-flair.training/blogs/apache-spark-rdd-vs-dataframe-vs-dataset\n",
    "\n",
    "Prakash, C. (2016). Apache Spark: RDD vs Dataframe vs Dataset. Retrieved September 28, 2017, from http://why-not-learn-something.blogspot.com.au/2016/07/apache-spark-rdd-vs-dataframe-vs-dataset.html\n",
    "\n",
    "Xin, R., & Rosen, J. (2015). Project Tungsten: Bringing Apache Spark Closer to Bare Metal. Retrieved September 30, 2017, from https://databricks.com/blog/2015/04/28/project-tungsten-bringing-spark-closer-to-bare-metal.html"
   ]
  }
 ],
 "metadata": {
  "kernelspec": {
   "display_name": "Python 3 (ipykernel)",
   "language": "python",
   "name": "python3"
  },
  "language_info": {
   "codemirror_mode": {
    "name": "ipython",
    "version": 3
   },
   "file_extension": ".py",
   "mimetype": "text/x-python",
   "name": "python",
   "nbconvert_exporter": "python",
   "pygments_lexer": "ipython3",
   "version": "3.10.11"
  }
 },
 "nbformat": 4,
 "nbformat_minor": 4
}
